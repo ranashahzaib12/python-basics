{
 "cells": [
  {
   "cell_type": "markdown",
   "metadata": {},
   "source": [
    "## Some Basics \n",
    " 1. syntax  -- Rules \n",
    " 2. Comment\n",
    " 3. Type checking and conversion\n",
    " 4.  Variable types \n",
    " 5. Dynamic Typing \n",
    " 6. Input"
   ]
  },
  {
   "cell_type": "code",
   "execution_count": null,
   "metadata": {},
   "outputs": [
    {
     "name": "stdout",
     "output_type": "stream",
     "text": [
      "sum: 11.0\n",
      "difference: -3.0\n",
      "divide: 0.5714285714285714\n",
      "Product: 28.0\n",
      "floor: 0.0\n",
      "exponent: 16384.0\n",
      "Bye!\n"
     ]
    }
   ],
   "source": [
    "#Creating a calculator using basics\n",
    "\n",
    "num1 = float(input(\"Enter num 1:\"))\n",
    "num2 = float(input(\"Enter num 2:\"))\n",
    "\n",
    "sum = num1 +num2\n",
    "difference = num1 - num2\n",
    "divide = num1 / num2\n",
    "Multiply = num1 * num2\n",
    "floor = num1 // num2 #Give absolutr round offed value\n",
    "exponent = num1 ** num2\n",
    "\n",
    "print(\"sum:\" , sum)\n",
    "print(\"difference:\" , difference)\n",
    "print(\"divide:\" , divide)\n",
    "print(\"Product:\" , Multiply)\n",
    "print(\"floor:\" , floor)\n",
    "print(\"exponent:\" , exponent)\n",
    "\n",
    "print(\"Bye!\")"
   ]
  },
  {
   "cell_type": "markdown",
   "metadata": {},
   "source": [
    "## Data Types \n",
    "int, flloat,strings,bool\n",
    "Errors"
   ]
  },
  {
   "cell_type": "code",
   "execution_count": 3,
   "metadata": {},
   "outputs": [
    {
     "name": "stdout",
     "output_type": "stream",
     "text": [
      "Hello Hello Hello Hello Hello \n"
     ]
    }
   ],
   "source": [
    "\n",
    "print(\"Hello \" * 5)"
   ]
  },
  {
   "cell_type": "markdown",
   "metadata": {},
   "source": [
    "## Operations"
   ]
  },
  {
   "cell_type": "code",
   "execution_count": 13,
   "metadata": {},
   "outputs": [
    {
     "name": "stdout",
     "output_type": "stream",
     "text": [
      "True\n",
      "False\n"
     ]
    },
    {
     "data": {
      "text/plain": [
       "True"
      ]
     },
     "execution_count": 13,
     "metadata": {},
     "output_type": "execute_result"
    }
   ],
   "source": [
    "a = True\n",
    "b= False\n",
    "\n",
    "print(a or b)\n",
    "print(a and b)\n",
    "\n",
    "x = False\n",
    "not x"
   ]
  },
  {
   "cell_type": "code",
   "execution_count": 3,
   "metadata": {},
   "outputs": [
    {
     "name": "stdout",
     "output_type": "stream",
     "text": [
      "m\n",
      "o\n",
      "i\n",
      "z\n",
      "\n",
      "1\n",
      "4\n",
      "7\n"
     ]
    }
   ],
   "source": [
    "new =str(\"moiz\")\n",
    "for i in new:\n",
    "    print(i)\n",
    "print()\n",
    "for i in range(1,10,3):\n",
    "    print(i)"
   ]
  },
  {
   "cell_type": "code",
   "execution_count": 32,
   "metadata": {},
   "outputs": [
    {
     "name": "stdout",
     "output_type": "stream",
     "text": [
      "Ok 0\n",
      "Ok 1\n",
      "Ok 2\n",
      "Ok 3\n",
      "Ok 4\n"
     ]
    }
   ],
   "source": [
    "count = 0 \n",
    "while count < 5:\n",
    "    print(\"Ok\", count)\n",
    "    count += 1"
   ]
  },
  {
   "cell_type": "code",
   "execution_count": 30,
   "metadata": {},
   "outputs": [
    {
     "name": "stdout",
     "output_type": "stream",
     "text": [
      "s\n",
      "h\n",
      "a\n",
      "h\n",
      "z\n",
      "a\n",
      "i\n",
      "b\n"
     ]
    }
   ],
   "source": [
    "name = \"shahzaib\"\n",
    "\n",
    "for i in name:\n",
    "    print(i) "
   ]
  },
  {
   "cell_type": "code",
   "execution_count": 44,
   "metadata": {},
   "outputs": [
    {
     "name": "stdout",
     "output_type": "stream",
     "text": [
      "6\n"
     ]
    }
   ],
   "source": [
    "yt = int(input())\n",
    "sum = 0\n",
    "for i in range(yt):\n",
    "    sum = sum + i\n",
    "\n",
    "print(sum) "
   ]
  },
  {
   "cell_type": "markdown",
   "metadata": {},
   "source": [
    "# pRAcTiCE\n"
   ]
  },
  {
   "cell_type": "code",
   "execution_count": 4,
   "metadata": {},
   "outputs": [
    {
     "name": "stdout",
     "output_type": "stream",
     "text": [
      "h is Not a vowel it\"s a consonant \n"
     ]
    }
   ],
   "source": [
    "#checking if character is a vowel or npot \n",
    "\n",
    "char = input(\"Enter a character: \").lower()\n",
    "\n",
    "if char in 'aeiou':\n",
    "    print(\"vowel\")\n",
    "else:\n",
    "    print(f'{char} is Not a vowel it\"s a consonant ') "
   ]
  },
  {
   "cell_type": "code",
   "execution_count": null,
   "metadata": {},
   "outputs": [
    {
     "name": "stdout",
     "output_type": "stream",
     "text": [
      "\n",
      "***\n",
      "******\n"
     ]
    }
   ],
   "source": [
    "#  Nested Loops\n",
    "# Write a program that prints a 5x5 grid of asterisks (*) using nested loops.\n",
    "nf = int(input())\n",
    "\n",
    "for i in range(5):\n",
    "    for j in range():\n",
    "        if j <= 2:\n",
    "            print(\"*\" * i, end = '')\n",
    "    print()"
   ]
  },
  {
   "cell_type": "code",
   "execution_count": 44,
   "metadata": {},
   "outputs": [
    {
     "name": "stdout",
     "output_type": "stream",
     "text": [
      "    * \n",
      "   * * \n",
      "  * * * \n",
      " * * * * \n",
      "* * * * * \n",
      " * * * * \n",
      "  * * * \n",
      "   * * \n",
      "    * \n"
     ]
    }
   ],
   "source": [
    "# n= 5\n",
    "# for i in range(n+1):\n",
    " \n",
    "#     print(\"*\")\n",
    "\n",
    "# print(\"done\")\n",
    "\n",
    "# n= 5\n",
    "# for i in range(n,0,-1):\n",
    " \n",
    "#     print(\"*\"* i)\n",
    "\n",
    "# Number of rows\n",
    "rows = 5\n",
    "\n",
    "# Upper half\n",
    "for i in range(1, rows + 1):\n",
    "    print(\" \" * (rows - i) + \"* \" * i)\n",
    "\n",
    "# Lower half\n",
    "for i in range(rows - 1, 0, -1):\n",
    "    print(\" \" * (rows - i) + \"* \" * i)\n"
   ]
  },
  {
   "cell_type": "code",
   "execution_count": null,
   "metadata": {},
   "outputs": [
    {
     "name": "stdout",
     "output_type": "stream",
     "text": [
      "0\n",
      "1\n",
      "1\n",
      "2\n"
     ]
    }
   ],
   "source": [
    "n = int(input(\"Enter the number of Fibonacci numbers to print: \"))\n",
    "a, b = 0, 1\n",
    "count = 0\n",
    "while count < n:\n",
    "    print(a)\n",
    "    a, b = b, a + b\n",
    "    count += 1 "
   ]
  },
  {
   "cell_type": "code",
   "execution_count": null,
   "metadata": {},
   "outputs": [
    {
     "name": "stdout",
     "output_type": "stream",
     "text": [
      "Reversed number is: 89666343\n"
     ]
    }
   ],
   "source": [
    "# Reversing an integer \n",
    "\n",
    "num = int(input(\"Enter a number: \"))\n",
    "reverse = 0\n",
    "while num > 0:\n",
    "    reverse = (reverse * 10) + (num % 10)\n",
    "    num //= 10\n",
    "print(\"Reversed number is:\", reverse) \n"
   ]
  },
  {
   "cell_type": "code",
   "execution_count": 47,
   "metadata": {},
   "outputs": [
    {
     "name": "stdout",
     "output_type": "stream",
     "text": [
      "24\n"
     ]
    }
   ],
   "source": [
    "# factorial of a number\n",
    "num = int(input())\n",
    "fac = 1\n",
    "for i in range(1,num+1):\n",
    "    fac *= i\n",
    "\n",
    "print(fac) "
   ]
  },
  {
   "cell_type": "markdown",
   "metadata": {},
   "source": [
    "**LIST**"
   ]
  },
  {
   "cell_type": "code",
   "execution_count": 110,
   "metadata": {},
   "outputs": [
    {
     "data": {
      "text/plain": [
       "9"
      ]
     },
     "execution_count": 110,
     "metadata": {},
     "output_type": "execute_result"
    }
   ],
   "source": [
    "mk =[1,2,3,4,5,6,7,8]\n",
    "\n",
    "mk[0 : 2]\n",
    "mk[0:]\n",
    "mk[0] = 9\n",
    "mk.append(90)\n",
    "mk\n",
    "mk.reverse()\n",
    "mk\n",
    "mk.pop(0)#Removed zeroth index\n",
    "mk\n",
    "mk.insert(2,\"Hello\")#Inserted Hello at 2nd idex\n",
    "mk[0]=9\n",
    "mk\n",
    "mk.remove(9)#Removes thr First Occurence of the Value\n",
    "mk\n",
    "mk.index('Hello')#Gives index f that element\n",
    "mk.count(3)\n",
    "mk.remove('Hello')\n",
    "mk.sort() #Sorted in ascending order\n",
    "mk.reverse()\n",
    "\n",
    "\n",
    "# SLICING \n",
    "mk.sort()\n",
    "mk[::2] #All elements with step size of 2\n",
    "mk[::-2]\n",
    "\n",
    "# #WIRH LOOPS\n",
    "\n",
    "\n",
    "# for nuber in mk:\n",
    "#     print(nuber , end =\",\")\n",
    "# print(\"Endl\")\n",
    "\n",
    "# for index,nuber in enumerate(mk):\n",
    "#     print(index ,\"-->\", nuber , end =\",\")\n",
    "\n",
    "\n",
    "# LIST COMPREHENSION\n",
    "\n",
    "[x+3 for x in mk]#Addedn3 in the whole list\n",
    "\n",
    "[x*3 for x in mk if x%2==0] #Wirh a condition\n",
    "\n",
    "#Nested List Comprehension\n",
    "mp = ['a','b','c']\n",
    "mo = [6,3,7]\n",
    "pair = [[i,j] for i in mp for j in mo]\n",
    "pair\n",
    "len(pair)\n"
   ]
  },
  {
   "cell_type": "code",
   "execution_count": null,
   "metadata": {},
   "outputs": [
    {
     "name": "stdout",
     "output_type": "stream",
     "text": [
      "['Buy groceries', 'Clean House', 'Bring Medicene', 'Bye to MOM', 'Doctor visit']\n",
      "['Buy groceries', 'Bring Medicene', 'Bye to MOM', 'Doctor visit']\n",
      "['Buy groceries', 'Bring Medicene', 'Bye to MOM']\n",
      "['Bring Medicene', 'Buy groceries', 'Bye to MOM']\n",
      "- Bring Medicene\n",
      "- Buy groceries\n",
      "- Bye to MOM\n"
     ]
    }
   ],
   "source": [
    "# creating a TO DO List \n",
    "exp_List = [\"Buy groceries\", 'Clean House', 'Bring Medicene']\n",
    "\n",
    "exp_List.append('Bye to MOM')\n",
    "exp_List.append('Doctor visit')\n",
    "print(exp_List)\n",
    "exp_List.remove( 'Clean House')\n",
    "print(exp_List)\n",
    "exp_List.pop()\n",
    "print(exp_List)\n",
    "exp_List.sort()\n",
    "print(exp_List)\n",
    "# Reminder setting\n",
    "if 'Clean House' in exp_List:\n",
    "    print('Do not forget to Clean the house ')\n",
    "\n",
    "for task in exp_List:\n",
    "    print('-', task)"
   ]
  },
  {
   "cell_type": "markdown",
   "metadata": {},
   "source": [
    "**TUPLE**"
   ]
  },
  {
   "cell_type": "code",
   "execution_count": 118,
   "metadata": {},
   "outputs": [
    {
     "name": "stdout",
     "output_type": "stream",
     "text": [
      "(1, 'Hello', 4)\n",
      "Hello\n",
      "1\n",
      "[2, 3, 4, 4, 5]\n",
      "6\n"
     ]
    }
   ],
   "source": [
    "tup = (1,2,3,4,4,5,6)\n",
    "#Mostly same concept as List but  it is Immuatable\n",
    "tup[2]\n",
    "tup*3\n",
    "tup+tuple(mk) #Converted a list to tuple and Concatenated Both\n",
    "\n",
    "#Packing Elements\n",
    "pk = 1,\"Hello\",4\n",
    "print(pk) \n",
    "#UNpacking Elements\n",
    "a,b,c = pk\n",
    "print(b)\n",
    "\n",
    "#UnPacking Elements with *\n",
    "first , *middle , last = tup\n",
    "print(first)\n",
    "print(middle)\n",
    "print(last)"
   ]
  },
  {
   "cell_type": "markdown",
   "metadata": {},
   "source": [
    "**SETS**"
   ]
  },
  {
   "cell_type": "code",
   "execution_count": null,
   "metadata": {},
   "outputs": [
    {
     "name": "stdout",
     "output_type": "stream",
     "text": [
      "True\n",
      "True\n"
     ]
    },
    {
     "data": {
      "text/plain": [
       "{2, 3, 4, 5, 6, 7, 9}"
      ]
     },
     "execution_count": 142,
     "metadata": {},
     "output_type": "execute_result"
    }
   ],
   "source": [
    "#Contains only uniwue elements\n",
    "mst = {1,2,3,4,5,6,7,8,9,2,1}\n",
    "mst #Output {1, 2, 3, 4} only gives unique element\n",
    "\n",
    "# mst.add(8)\n",
    "# mst.remove(4)\n",
    "# mst.discard(8)# It willnot give any error as 8 nis not present in the set\n",
    "# mst.pop() #FIFO removes the first element\n",
    "# mst\n",
    "# # mst.clear()# Removes the entire SET\n",
    "\n",
    "print(3 in mst) #Gives 3 if it is in the set\n",
    "print(8 in mst)\n",
    "\n",
    "mtr = {1,4,3,3,2,1,4,5,6,5}\n",
    "\n",
    "mst.intersection(mtr)\n",
    "mst.union(mtr)\n",
    "mst.difference(mtr)\n",
    "# mst.difference_update(mtr)\n",
    "# mst.symmetric_difference_update(mtr)\n",
    "\n",
    "mtr.issubset(mst)\n",
    "\n",
    "mtr.issuperset(mst)\n",
    "\n",
    "\n",
    "mtr.issubset(mst)\n",
    "\n",
    "#Conversion\n",
    "set(mk) #List converted to aset to remove duplicates from it\n"
   ]
  },
  {
   "cell_type": "markdown",
   "metadata": {},
   "source": [
    "**Dictionaries**"
   ]
  },
  {
   "cell_type": "code",
   "execution_count": 155,
   "metadata": {},
   "outputs": [],
   "source": [
    "dict()\n",
    "dic = {'name' : 'Rana',\n",
    "       'age' : 21}\n",
    "dic['name']\n",
    "dic.get('name')\n",
    "dic['grade']=3\n",
    "dic['address']= 'shsahaha'\n",
    "dic \n",
    "\n",
    "del dic['address']\n",
    "\n",
    "dic.keys()\n",
    "dic.values()\n",
    "dic.items()\n",
    "\n",
    "#Copying the Distionary\n",
    "di2 = dic \n",
    "dic['numbers']= 23232 #ANy change ii main dic will be visible inn the copied dict\n",
    "\n",
    "#To avoid this \n",
    "di2 = dic.copy()\n",
    "\n"
   ]
  },
  {
   "cell_type": "code",
   "execution_count": null,
   "metadata": {},
   "outputs": [
    {
     "name": "stdout",
     "output_type": "stream",
     "text": [
      "{'name': 'Rana', 'age': 21, 'grade': 3, 'numbers': 23232, 'okay': 'Eligible'}\n"
     ]
    }
   ],
   "source": [
    "# for keys in dic.keys():\n",
    "#     print(keys)\n",
    "# for keys,values in dic.items():\n",
    "#     print(keys , values) \n",
    "\n",
    "#SEE NESTED DICTIONARY\n",
    "\n",
    "#MERGING DICTIONARY\n",
    "di2['okay'] = 'Eligible'\n",
    "\n",
    "merge = {**dic , ** di2}\n",
    "print(merge)"
   ]
  },
  {
   "cell_type": "code",
   "execution_count": 174,
   "metadata": {},
   "outputs": [
    {
     "data": {
      "text/plain": [
       "[1, 4, 16, 25, 36]"
      ]
     },
     "execution_count": 174,
     "metadata": {},
     "output_type": "execute_result"
    }
   ],
   "source": [
    "#MAP FUNCTION\n",
    "#Applies a given function to all items in a LIST \n",
    "#Lambda function an anonymus function\n",
    "addition = lambda a,b : a+b\n",
    "addition(2,3)\n",
    "num = [1,2,4,5,6]\n",
    "\n",
    "list(map(lambda x:x * x , num))\n"
   ]
  },
  {
   "cell_type": "code",
   "execution_count": 185,
   "metadata": {},
   "outputs": [
    {
     "name": "stdout",
     "output_type": "stream",
     "text": [
      "<class 'list'>\n"
     ]
    },
    {
     "data": {
      "text/plain": [
       "[4]"
      ]
     },
     "execution_count": 185,
     "metadata": {},
     "output_type": "execute_result"
    }
   ],
   "source": [
    "#Convering a list of string to a list of integer\n",
    "lststr = ['1','3','4','5']\n",
    "\n",
    "intnum = list(map(int,lststr))\n",
    "print(type(intnum))\n",
    "\n",
    "# def even(num):\n",
    "#     num%2 == 0\n",
    "#     return True\n",
    "\n",
    "# list(filter(even,intnum))\n",
    "\n",
    "list(filter(lambda x:x%2==0 , intnum))\n",
    "\n"
   ]
  },
  {
   "cell_type": "markdown",
   "metadata": {},
   "source": [
    "## File Handling"
   ]
  },
  {
   "cell_type": "code",
   "execution_count": 16,
   "metadata": {},
   "outputs": [
    {
     "name": "stdout",
     "output_type": "stream",
     "text": [
      "Rana Sahzaib\n",
      "Learn\n",
      "for Knowledge\n"
     ]
    }
   ],
   "source": [
    "with open('example.txt' , 'r') as file:\n",
    "    for line in file:\n",
    "        print(line.strip())# strip will remove the blank line coming after ech line occurance\n",
    "# content = file.read()\n",
    "# print(content)"
   ]
  },
  {
   "cell_type": "code",
   "execution_count": 21,
   "metadata": {},
   "outputs": [
    {
     "name": "stdout",
     "output_type": "stream",
     "text": [
      "Hello new\n"
     ]
    }
   ],
   "source": [
    "with open('example.txt' , 'w') as file:\n",
    "    file.write(\"Hello new\")\n",
    "\n",
    "with open('example.txt' , 'r') as file:\n",
    "    for line in file:\n",
    "        print(line.strip())\n"
   ]
  },
  {
   "cell_type": "code",
   "execution_count": 24,
   "metadata": {},
   "outputs": [
    {
     "name": "stdout",
     "output_type": "stream",
     "text": [
      "Hello newAppending mode\n",
      "Appending mode\n",
      "Appending mode\n"
     ]
    }
   ],
   "source": [
    "with open('example.txt' , 'a') as file:\n",
    "    file.write(\"\\n Appending mode\")\n",
    "\n",
    "with open('example.txt' , 'r') as file:\n",
    "    for line in file:\n",
    "        print(line.strip())"
   ]
  },
  {
   "cell_type": "code",
   "execution_count": 31,
   "metadata": {},
   "outputs": [
    {
     "name": "stdout",
     "output_type": "stream",
     "text": [
      "Hello newHwwlloo\n",
      "not today\n",
      "Brother\n"
     ]
    }
   ],
   "source": [
    "lines = ['Hwwlloo\\n', 'not today \\n', 'Brother\\n']\n",
    "\n",
    "with open('example.txt' , 'a') as file:\n",
    "    file.writelines(lines)\n",
    "\n",
    "with open('example.txt' , 'r') as file:\n",
    "    for line in file:\n",
    "        print(line.strip())"
   ]
  },
  {
   "cell_type": "code",
   "execution_count": null,
   "metadata": {},
   "outputs": [
    {
     "name": "stdout",
     "output_type": "stream",
     "text": [
      "b'\\x001\\x01\\x02\\x03'\n"
     ]
    }
   ],
   "source": [
    "# Bin file reading and writing\n",
    "data = b'\\x001\\x01\\x02\\x03'\n",
    "with open('example.bin' , 'wb') as file:\n",
    "    file.write(data)\n",
    "\n",
    "with open('example.bin' , 'rb') as file:\n",
    "    content = file.read()\n",
    "    print(content)"
   ]
  },
  {
   "cell_type": "code",
   "execution_count": null,
   "metadata": {},
   "outputs": [],
   "source": [
    "# reading from source text file and writing to a text file s\n",
    "\n",
    "with open('example.txt' , 'r') as srfile:\n",
    "    content = srfile.read()\n",
    " \n",
    "with open('destination.txt' , 'a') as destfile:\n",
    "    destfile.write(content)"
   ]
  },
  {
   "cell_type": "code",
   "execution_count": 47,
   "metadata": {},
   "outputs": [
    {
     "name": "stdout",
     "output_type": "stream",
     "text": [
      "New line\n",
      "cursor moving\n"
     ]
    }
   ],
   "source": [
    "# Opening a file for both reading and writing \n",
    "with open('example.txt' , 'w+') as file:\n",
    "    file.write(\"New line\\n\")\n",
    "    file.write(\"cursor moving\")\n",
    "\n",
    "    file.seek(0)\n",
    "    content = file.read()\n",
    "    print(content)"
   ]
  },
  {
   "cell_type": "code",
   "execution_count": 53,
   "metadata": {},
   "outputs": [
    {
     "name": "stdout",
     "output_type": "stream",
     "text": [
      "['02_assignment_question.ipynb', '02_assignment_solution.ipynb', '03_assignments_question.ipynb', '03_assignment_solutions.ipynb', '1.0-basic.ipynb', 'advancefunctions.ipynb', 'advancefunctionsolution.ipynb', 'destination.txt', 'dictionaries_assignment.ipynb', 'dictionaries_assignment_solution.ipynb', 'example.bin', 'example.txt', 'list_Assignment.ipynb', 'list_assignment_solution.ipynb', 'new.txt', 'package', 'sets_assignment.ipynb', 'set_assignments_solution.ipynb', 'tuple_assignment.ipynb', 'tuple_assignment_solution.ipynb']\n"
     ]
    }
   ],
   "source": [
    "# WORKING WITH FILE LOCATIONS\n",
    "\n",
    "# # CREATING A NEW DIRECTORY \n",
    "import os\n",
    "# new_directory = 'package'\n",
    "# os.mkdir(new_directory) # make dir \n",
    "# print(new_directory)\n",
    "\n",
    "\n",
    "# listing file and directory \n",
    "items = os.listdir('.')\n",
    "print(items)"
   ]
  },
  {
   "cell_type": "code",
   "execution_count": null,
   "metadata": {},
   "outputs": [
    {
     "name": "stdout",
     "output_type": "stream",
     "text": [
      "f:\\DS\\U_pyBasicFiles\\folder\\file.txt\n"
     ]
    }
   ],
   "source": [
    "# Exact address of directry\n",
    "dirname = 'folder'\n",
    "file_name = 'file.txt'\n",
    "fullpath  = os.path.join(os.getcwd(),dirname,file_name)\n",
    "print(fullpath)"
   ]
  },
  {
   "cell_type": "code",
   "execution_count": null,
   "metadata": {},
   "outputs": [
    {
     "name": "stdout",
     "output_type": "stream",
     "text": [
      "Not example1.txt\n"
     ]
    }
   ],
   "source": [
    "# Checking file Existence\n",
    "path = 'example1.txt'\n",
    "if os.path.exists(path):\n",
    "# os.path.isfile(path):\n",
    "# os.path.isdir(path):\n",
    "    print(path)\n",
    "else:\n",
    "    print(\"Not\",path)"
   ]
  },
  {
   "cell_type": "code",
   "execution_count": null,
   "metadata": {},
   "outputs": [
    {
     "name": "stdout",
     "output_type": "stream",
     "text": [
      "division by zero\n"
     ]
    }
   ],
   "source": [
    "#UNDERSTANDING EXCEPTIONS S\n",
    "try:\n",
    "    r= 1/0\n",
    "    a=b\n",
    "except NameError as ex: #Error which usually comes with a=b\n",
    "    print(ex)\n",
    "except Exception as ex1: #catches all type of errors it is a base class of errors all general errors are covered in it\n",
    "    print(ex1)\n",
    "\n",
    "#  Also use \" try, except , else block\" where else will execute if no error came\n",
    "#  Also use \" try, except , else and also 'finally' block\" where else will execute if no error came finally shows end statemwnt in ti like print(\"Program end\")\n",
    "# Can also implemeent file handling here\n"
   ]
  },
  {
   "cell_type": "code",
   "execution_count": 186,
   "metadata": {},
   "outputs": [
    {
     "name": "stdout",
     "output_type": "stream",
     "text": [
      "New line\n",
      "cursor moving\n"
     ]
    },
    {
     "ename": "TypeError",
     "evalue": "'bool' object is not callable",
     "output_type": "error",
     "traceback": [
      "\u001b[1;31m---------------------------------------------------------------------------\u001b[0m",
      "\u001b[1;31mTypeError\u001b[0m                                 Traceback (most recent call last)",
      "Cell \u001b[1;32mIn[186], line 9\u001b[0m\n\u001b[0;32m      7\u001b[0m     \u001b[38;5;28mprint\u001b[39m(\u001b[38;5;124m\"\u001b[39m\u001b[38;5;124mThe file does not close\u001b[39m\u001b[38;5;124m\"\u001b[39m)\n\u001b[0;32m      8\u001b[0m \u001b[38;5;28;01mfinally\u001b[39;00m:\n\u001b[1;32m----> 9\u001b[0m     \u001b[38;5;28;01mif\u001b[39;00m \u001b[38;5;124m'\u001b[39m\u001b[38;5;124mfile\u001b[39m\u001b[38;5;124m'\u001b[39m \u001b[38;5;129;01min\u001b[39;00m \u001b[38;5;28mlocals\u001b[39m() \u001b[38;5;129;01mand\u001b[39;00m \u001b[38;5;129;01mnot\u001b[39;00m \u001b[43mfile\u001b[49m\u001b[38;5;241;43m.\u001b[39;49m\u001b[43mclosed\u001b[49m\u001b[43m(\u001b[49m\u001b[43m)\u001b[49m:\n\u001b[0;32m     10\u001b[0m         file\u001b[38;5;241m.\u001b[39mclose()\n\u001b[0;32m     11\u001b[0m         \u001b[38;5;28mprint\u001b[39m(\u001b[38;5;124m\"\u001b[39m\u001b[38;5;124mFile close successfully.\u001b[39m\u001b[38;5;124m\"\u001b[39m)\n",
      "\u001b[1;31mTypeError\u001b[0m: 'bool' object is not callable"
     ]
    }
   ],
   "source": [
    "try:\n",
    "    file = open(\"example.txt\", 'r')\n",
    "    content= file.read()\n",
    "    print(content)\n",
    "\n",
    "except:\n",
    "    print(\"The file does not close\")\n",
    "finally:\n",
    "    if 'file' in locals() and not file.closed():\n",
    "        file.close()\n",
    "        print(\"File close successfully.\")\n"
   ]
  },
  {
   "cell_type": "code",
   "execution_count": 4,
   "metadata": {},
   "outputs": [
    {
     "name": "stdout",
     "output_type": "stream",
     "text": [
      "anay\n"
     ]
    }
   ],
   "source": [
    "# Oops INRHRTEnCE \n",
    "class Animal:\n",
    "    def __init__(self, name, species):\n",
    "        self.name = name\n",
    "        self.species = species\n",
    "\n",
    "class Dog(Animal):\n",
    "    def __init__(self, name, species, breed):\n",
    "        super().__init__(name, species)\n",
    "        self.breed = breed\n",
    "\n",
    "dog = Dog(\"anay\",\"dogy\",'M')\n",
    "print(dog.name)"
   ]
  },
  {
   "cell_type": "markdown",
   "metadata": {},
   "source": [
    "### NUMPY"
   ]
  },
  {
   "cell_type": "code",
   "execution_count": 192,
   "metadata": {},
   "outputs": [
    {
     "ename": "TypeError",
     "evalue": "'module' object is not callable",
     "output_type": "error",
     "traceback": [
      "\u001b[1;31m---------------------------------------------------------------------------\u001b[0m",
      "\u001b[1;31mTypeError\u001b[0m                                 Traceback (most recent call last)",
      "Cell \u001b[1;32mIn[192], line 8\u001b[0m\n\u001b[0;32m      2\u001b[0m \u001b[38;5;66;03m# arr1 = np.array([1,2,3,4])\u001b[39;00m\n\u001b[0;32m      3\u001b[0m \u001b[38;5;66;03m# print(arr1)\u001b[39;00m\n\u001b[0;32m      4\u001b[0m \u001b[38;5;66;03m# arr2 = np.array([1,3,4,6,7])\u001b[39;00m\n\u001b[0;32m      5\u001b[0m \u001b[38;5;66;03m# print(arr2.shape)  # finding the dimenesion of array  (5,)\u001b[39;00m\n\u001b[0;32m      6\u001b[0m \u001b[38;5;66;03m# arr2.reshape(1,5) # Making a 2D array with 1 row and 5 colunms respectively [[1, 3, 4, 6, 7]]\u001b[39;00m\n\u001b[0;32m      7\u001b[0m np\u001b[38;5;241m.\u001b[39marange(\u001b[38;5;241m1\u001b[39m,\u001b[38;5;241m5\u001b[39m)\n\u001b[1;32m----> 8\u001b[0m \u001b[43mnp\u001b[49m\u001b[38;5;241;43m.\u001b[39;49m\u001b[43mrandom\u001b[49m\u001b[43m(\u001b[49m\u001b[38;5;241;43m2\u001b[39;49m\u001b[43m,\u001b[49m\u001b[38;5;241;43m2\u001b[39;49m\u001b[43m)\u001b[49m\n",
      "\u001b[1;31mTypeError\u001b[0m: 'module' object is not callable"
     ]
    }
   ],
   "source": [
    "import numpy as np # library is Active \n",
    "# arr1 = np.array([1,2,3,4])\n",
    "# print(arr1)\n",
    "# arr2 = np.array([1,3,4,6,7])\n",
    "# print(arr2.shape)  # finding the dimenesion of array  (5,)\n",
    "# arr2.reshape(1,5) # Making a 2D array with 1 row and 5 colunms respectively [[1, 3, 4, 6, 7]]\n",
    "np.arange(1,5)\n",
    "np.random(2,2)"
   ]
  },
  {
   "cell_type": "code",
   "execution_count": 197,
   "metadata": {},
   "outputs": [
    {
     "name": "stdout",
     "output_type": "stream",
     "text": [
      "(2, 5)\n"
     ]
    }
   ],
   "source": [
    "arr3 = np.array([[1,3,4,6,7],\n",
    "                 [3,4,5,5,3]])\n",
    "print(arr3.shape)  # finding the dimenesion of array  (2, 5)"
   ]
  },
  {
   "cell_type": "code",
   "execution_count": 195,
   "metadata": {},
   "outputs": [
    {
     "data": {
      "text/plain": [
       "array([[1],\n",
       "       [3],\n",
       "       [5],\n",
       "       [7],\n",
       "       [9]])"
      ]
     },
     "execution_count": 195,
     "metadata": {},
     "output_type": "execute_result"
    }
   ],
   "source": [
    "# creating an array with inbuilt functin in numpy and aranging it in 5 by 1  order\n",
    "np.arange(1,10,2).reshape(5,1) "
   ]
  },
  {
   "cell_type": "code",
   "execution_count": 198,
   "metadata": {},
   "outputs": [
    {
     "name": "stdout",
     "output_type": "stream",
     "text": [
      "class:  ndarray\n",
      "shape:  (2, 5)\n",
      "strides:  (40, 8)\n",
      "itemsize:  8\n",
      "aligned:  True\n",
      "contiguous:  True\n",
      "fortran:  False\n",
      "data pointer: 0x130c19a76d0\n",
      "byteorder:  little\n",
      "byteswap:  False\n",
      "type: int64\n"
     ]
    }
   ],
   "source": [
    "np.info(arr3)"
   ]
  },
  {
   "cell_type": "code",
   "execution_count": 199,
   "metadata": {},
   "outputs": [
    {
     "data": {
      "text/plain": [
       "array([[1., 1., 1., 1.],\n",
       "       [1., 1., 1., 1.],\n",
       "       [1., 1., 1., 1.]])"
      ]
     },
     "execution_count": 199,
     "metadata": {},
     "output_type": "execute_result"
    }
   ],
   "source": [
    "np.ones((3,4)) # creating a 3by4 matrix contain one only"
   ]
  },
  {
   "cell_type": "code",
   "execution_count": 200,
   "metadata": {},
   "outputs": [
    {
     "data": {
      "text/plain": [
       "array([[1., 0., 0.],\n",
       "       [0., 1., 0.],\n",
       "       [0., 0., 1.]])"
      ]
     },
     "execution_count": 200,
     "metadata": {},
     "output_type": "execute_result"
    }
   ],
   "source": [
    "# identity matrix of order 3 yaa 'n' \n",
    "np.eye(3) "
   ]
  },
  {
   "cell_type": "code",
   "execution_count": null,
   "metadata": {},
   "outputs": [
    {
     "name": "stdout",
     "output_type": "stream",
     "text": [
      "3\n",
      "15\n",
      "int64\n",
      "8\n"
     ]
    }
   ],
   "source": [
    "# Some attributes of numpy\n",
    "arr4 = np.array([[[1,3,4,6,7],\n",
    "                 [3,4,5,5,3],\n",
    "                 [3,4,5,7,3]]])\n",
    "print(arr4.ndim)\n",
    "print(arr4.size)\n",
    "print(arr4.dtype)\n",
    "print(arr4.itemsize) # Size of array in bytes"
   ]
  },
  {
   "cell_type": "code",
   "execution_count": 43,
   "metadata": {},
   "outputs": [
    {
     "name": "stdout",
     "output_type": "stream",
     "text": [
      "addition [12 23 34 45 56]\n",
      "sub [ -8 -17 -26 -35 -44]\n",
      "Mul [ 20  60 120 200 300]\n"
     ]
    }
   ],
   "source": [
    "# numpy vectorized operations\n",
    " \n",
    "arr1= np.array([2,3,4,5,6])\n",
    "arr2 = np.array([10,20,30,40,50])\n",
    "\n",
    "print('addition',arr1 + arr2)\n",
    "print('sub',arr1 - arr2)\n",
    "print('Mul',arr1 * arr2)"
   ]
  },
  {
   "cell_type": "code",
   "execution_count": 54,
   "metadata": {},
   "outputs": [
    {
     "name": "stdout",
     "output_type": "stream",
     "text": [
      "[1.         1.41421356 1.73205081 2.         2.23606798]\n",
      "[  2.71828183   7.3890561   20.08553692  54.59815003 148.4131591 ]\n",
      "[ 0.84147098  0.90929743  0.14112001 -0.7568025  -0.95892427]\n"
     ]
    }
   ],
   "source": [
    "#Universal Function\n",
    "arr = np.array([1,2,3,4,5])\n",
    "print(np.sqrt(arr))\n",
    "print(np.exp(arr))\n",
    "print(np.sin(arr))"
   ]
  },
  {
   "cell_type": "code",
   "execution_count": null,
   "metadata": {},
   "outputs": [
    {
     "name": "stdout",
     "output_type": "stream",
     "text": [
      "(3, 5)\n",
      "5\n",
      "[[3 4 5 6 7]\n",
      " [9 2 4 6 7]] \n",
      "\n",
      "[5 4] \n",
      "\n",
      "[[5 6 7]\n",
      " [4 6 7]] \n",
      "\n",
      "[[5 6 7]\n",
      " [4 6 7]] \n",
      "\n"
     ]
    }
   ],
   "source": [
    "# Slicing and indexing\n",
    "#                   0       ,   1       ,   2\n",
    "arr = np.array([[1,2,3,4,5],[3,4,5,6,7],[9,2,4,6,7]])\n",
    "print(arr.shape) \n",
    "print(arr[0][4]) # \n",
    "print(arr[1:],'\\n')\n",
    "print(arr[1::,2],'\\n') # only rows 1 and 2 while vlaues at there index 2nd index\n",
    "print(arr[1::,2:5],'\\n')#Same samae\n",
    "print(arr[1: ,2:],'\\n')#Same samae\n",
    "print(arr[1: ,1:3],'\\n')\n",
    "# Slicing\n",
    "print(arr[1:,-1])# last index of both first and 2 row"
   ]
  },
  {
   "cell_type": "code",
   "execution_count": 98,
   "metadata": {},
   "outputs": [
    {
     "name": "stdout",
     "output_type": "stream",
     "text": [
      "[[66  2  3  4  5]\n",
      " [99 99 99 99 99]\n",
      " [99 99 99 99 99]] \n",
      "\n",
      "[[66  2  3  4  5]\n",
      " [96 96 96 96 96]\n",
      " [96 96 96 96 96]]\n"
     ]
    }
   ],
   "source": [
    "# Modifying array \n",
    "arr[0][0]=66\n",
    "print(arr,'\\n')\n",
    "arr[1:]=96\n",
    "print(arr)"
   ]
  },
  {
   "cell_type": "code",
   "execution_count": 101,
   "metadata": {},
   "outputs": [
    {
     "name": "stdout",
     "output_type": "stream",
     "text": [
      "norm form: [ 0.62017367 -0.12403473  1.36438208 -0.86824314 -1.61245155  0.62017367]\n"
     ]
    }
   ],
   "source": [
    "# Practical example \n",
    "# Statisistics ....Normaliztion\n",
    "data=np.array([8,7,9,6,5,8])\n",
    "\n",
    "n_mean = np.mean(data)\n",
    "n_std = np.std(data)\n",
    "\n",
    "norm = (data - n_mean) / n_std \n",
    "print('norm form:' , norm)"
   ]
  },
  {
   "cell_type": "markdown",
   "metadata": {},
   "source": [
    "PANDAS"
   ]
  },
  {
   "cell_type": "code",
   "execution_count": null,
   "metadata": {},
   "outputs": [
    {
     "name": "stdout",
     "output_type": "stream",
     "text": [
      "0    2\n",
      "1    4\n",
      "2    5\n",
      "3    6\n",
      "4    7\n",
      "dtype: int64\n"
     ]
    }
   ],
   "source": [
    "import pandas as pd\n",
    "data =[2,4,5,6,7]\n",
    "series = pd.Series(data)\n",
    "print(series) # It shows indexes along with elements in arrary "
   ]
  },
  {
   "cell_type": "code",
   "execution_count": null,
   "metadata": {},
   "outputs": [
    {
     "name": "stdout",
     "output_type": "stream",
     "text": [
      "a    1\n",
      "b    2\n",
      "c    3\n",
      "d    4\n",
      "dtype: int64\n"
     ]
    }
   ],
   "source": [
    "# series from deictionary\n",
    "data = {'a':1,'b':2,'c':3,'d':4 }\n",
    "ser_dict = pd.Series(data)\n",
    "print(ser_dict) # Now indexes 0,1,2.. replaced with a,b,c,d\n",
    "\n"
   ]
  },
  {
   "cell_type": "code",
   "execution_count": 6,
   "metadata": {},
   "outputs": [
    {
     "name": "stdout",
     "output_type": "stream",
     "text": [
      "a    10\n",
      "b    20\n",
      "c    30\n",
      "dtype: int64\n"
     ]
    }
   ],
   "source": [
    "data  = [10,20,30]\n",
    "index = ['a','b','c']\n",
    "print(pd.Series(data,index)) # Value in front of each attribute"
   ]
  },
  {
   "cell_type": "code",
   "execution_count": 33,
   "metadata": {},
   "outputs": [
    {
     "name": "stdout",
     "output_type": "stream",
     "text": [
      "    name  age    city\n",
      "0   rana   34     new\n",
      "1   moiz   55   cjica\n",
      "2  abdul   73  Lahore\n"
     ]
    },
    {
     "data": {
      "text/plain": [
       "array([['rana', 34, 'new'],\n",
       "       ['moiz', 55, 'cjica'],\n",
       "       ['abdul', 73, 'Lahore']], dtype=object)"
      ]
     },
     "execution_count": 33,
     "metadata": {},
     "output_type": "execute_result"
    }
   ],
   "source": [
    "# Data frame\n",
    "#Creaign it with dictionary\n",
    "data={\n",
    "    'name' : ['rana','moiz','abdul'],\n",
    "    'age': [34,55,73],\n",
    "    'city':['new','cjica','Lahore']\n",
    "}\n",
    "\n",
    "df = pd.DataFrame(data)\n",
    "print(df)\n",
    "import numpy as np\n",
    "np.array(df)#Converted inthe form of arrays using pandas"
   ]
  },
  {
   "cell_type": "code",
   "execution_count": 105,
   "metadata": {},
   "outputs": [
    {
     "name": "stdout",
     "output_type": "stream",
     "text": [
      "   name  age      city\n",
      "0  rana   32    LAhore\n",
      "1   bla   43     Lkare\n",
      "2  rmoi   52  paattore\n"
     ]
    }
   ],
   "source": [
    "#creating a data frame from  a list\n",
    "data = [\n",
    "    {'name' : 'rana', 'age' : 32 , 'city' : \"LAhore\"},\n",
    "    {'name' : 'bla', 'age' : 43 , 'city' : \"Lkare\"},\n",
    "    {'name' : 'rmoi', 'age' : 52 , 'city' : \"paattore\"}\n",
    "]\n",
    "df = pd.DataFrame(data)\n",
    "print(df)"
   ]
  },
  {
   "cell_type": "code",
   "execution_count": null,
   "metadata": {},
   "outputs": [
    {
     "name": "stdout",
     "output_type": "stream",
     "text": [
      "   name  age      city\n",
      "0  rana   32    LAhore\n",
      "1   bla   43     Lkare\n",
      "2  rmoi   52  paattore\n"
     ]
    },
    {
     "name": "stderr",
     "output_type": "stream",
     "text": [
      "C:\\Users\\Track Computers\\AppData\\Local\\Temp\\ipykernel_7312\\2488802370.py:4: FutureWarning: Series.__getitem__ treating keys as positions is deprecated. In a future version, integer keys will always be treated as labels (consistent with DataFrame behavior). To access a value by position, use `ser.iloc[pos]`\n",
      "  df.iloc[0][1]# 'iloc' means also colunm index behave as [row][colunm]\n"
     ]
    },
    {
     "data": {
      "text/plain": [
       "'Lkare'"
      ]
     },
     "execution_count": 82,
     "metadata": {},
     "output_type": "execute_result"
    }
   ],
   "source": [
    "print(df)\n",
    "df['name']\n",
    "df.loc[0]# 'loc'means zero th ROW index \n",
    "df.iloc[0][1]# 'iloc' means also colunm index behave as [row][colunm]\n",
    "df.iloc[0][1:] # row // colunm\n",
    "##df.iloc[0:][1] # Error NOT Pssible\n",
    "df.iloc[0:][1:] # BEhave as [colunm][row]\n",
    "df.at[1,'age'] # Spexcific row index alongwith colunm NAme specifying\n",
    "df.iat[1,2]# Now just like iloc both rows and colunms are spcified s"
   ]
  },
  {
   "cell_type": "code",
   "execution_count": null,
   "metadata": {},
   "outputs": [
    {
     "data": {
      "text/html": [
       "<div>\n",
       "<style scoped>\n",
       "    .dataframe tbody tr th:only-of-type {\n",
       "        vertical-align: middle;\n",
       "    }\n",
       "\n",
       "    .dataframe tbody tr th {\n",
       "        vertical-align: top;\n",
       "    }\n",
       "\n",
       "    .dataframe thead th {\n",
       "        text-align: right;\n",
       "    }\n",
       "</style>\n",
       "<table border=\"1\" class=\"dataframe\">\n",
       "  <thead>\n",
       "    <tr style=\"text-align: right;\">\n",
       "      <th></th>\n",
       "      <th>name</th>\n",
       "      <th>age</th>\n",
       "      <th>city</th>\n",
       "      <th>salary</th>\n",
       "    </tr>\n",
       "  </thead>\n",
       "  <tbody>\n",
       "    <tr>\n",
       "      <th>0</th>\n",
       "      <td>rana</td>\n",
       "      <td>32</td>\n",
       "      <td>LAhore</td>\n",
       "      <td>1000</td>\n",
       "    </tr>\n",
       "    <tr>\n",
       "      <th>1</th>\n",
       "      <td>bla</td>\n",
       "      <td>43</td>\n",
       "      <td>Lkare</td>\n",
       "      <td>3000</td>\n",
       "    </tr>\n",
       "    <tr>\n",
       "      <th>2</th>\n",
       "      <td>rmoi</td>\n",
       "      <td>52</td>\n",
       "      <td>paattore</td>\n",
       "      <td>2330</td>\n",
       "    </tr>\n",
       "  </tbody>\n",
       "</table>\n",
       "</div>"
      ],
      "text/plain": [
       "   name  age      city  salary\n",
       "0  rana   32    LAhore    1000\n",
       "1   bla   43     Lkare    3000\n",
       "2  rmoi   52  paattore    2330"
      ]
     },
     "execution_count": 106,
     "metadata": {},
     "output_type": "execute_result"
    }
   ],
   "source": [
    "#Data manuplition with data frames\n",
    "df['salary'] =  [1000,3000,2330] # Adding a colunm\n",
    "df\n",
    "# df.drop('salary') # Error as there is no index of salary in row SO\n",
    "df.drop('salary', axis = 1)# axis = 0 means checking the Rows index ....axis = 1 means checking colunm indexes \n",
    "df #df have still the salary colunm\n",
    "df.drop('salary', axis = 1 , inplace = True) # permanently deleting the salary colunm \n",
    "# df\n"
   ]
  },
  {
   "cell_type": "code",
   "execution_count": null,
   "metadata": {},
   "outputs": [
    {
     "data": {
      "text/html": [
       "<div>\n",
       "<style scoped>\n",
       "    .dataframe tbody tr th:only-of-type {\n",
       "        vertical-align: middle;\n",
       "    }\n",
       "\n",
       "    .dataframe tbody tr th {\n",
       "        vertical-align: top;\n",
       "    }\n",
       "\n",
       "    .dataframe thead th {\n",
       "        text-align: right;\n",
       "    }\n",
       "</style>\n",
       "<table border=\"1\" class=\"dataframe\">\n",
       "  <thead>\n",
       "    <tr style=\"text-align: right;\">\n",
       "      <th></th>\n",
       "      <th>name</th>\n",
       "      <th>age</th>\n",
       "      <th>city</th>\n",
       "      <th>salary</th>\n",
       "    </tr>\n",
       "  </thead>\n",
       "  <tbody>\n",
       "    <tr>\n",
       "      <th>1</th>\n",
       "      <td>bla</td>\n",
       "      <td>43</td>\n",
       "      <td>Lkare</td>\n",
       "      <td>3000</td>\n",
       "    </tr>\n",
       "    <tr>\n",
       "      <th>2</th>\n",
       "      <td>rmoi</td>\n",
       "      <td>52</td>\n",
       "      <td>paattore</td>\n",
       "      <td>2330</td>\n",
       "    </tr>\n",
       "  </tbody>\n",
       "</table>\n",
       "</div>"
      ],
      "text/plain": [
       "   name  age      city  salary\n",
       "1   bla   43     Lkare    3000\n",
       "2  rmoi   52  paattore    2330"
      ]
     },
     "execution_count": 109,
     "metadata": {},
     "output_type": "execute_result"
    }
   ],
   "source": [
    "# df['age']+4 # adding 4 in everyone's age\n",
    "# df # But original is still there as we havnot replaced it so\n",
    "# df['age'] =df['age']+4\n",
    "# df\n",
    "# df.drop(0,inplace =True )#Removing a zeroth index ROW \n",
    "df\n",
    "df[['city','salary']] #Accessing multiples colunms \n",
    "df[df['salary']>2000] # WIth condition access"
   ]
  },
  {
   "cell_type": "markdown",
   "metadata": {},
   "source": [
    "Data manuplation and Analysis "
   ]
  },
  {
   "cell_type": "code",
   "execution_count": 197,
   "metadata": {},
   "outputs": [
    {
     "data": {
      "text/plain": [
       "pizza_id             0\n",
       "order_id             0\n",
       "pizza_name_id        0\n",
       "quantity             0\n",
       "order_date           0\n",
       "order_time           0\n",
       "unit_price           3\n",
       "total_price          0\n",
       "pizza_size           2\n",
       "pizza_category       2\n",
       "pizza_ingredients    0\n",
       "pizza_name           3\n",
       "dtype: int64"
      ]
     },
     "execution_count": 197,
     "metadata": {},
     "output_type": "execute_result"
    }
   ],
   "source": [
    "df = pd.read_csv(\"sales.csv\")\n",
    "# df.head(1) # Donot use print HERE \n",
    "# df.tail(2)\n",
    "# df['Winners']\n",
    "# df.describe()\n",
    "# df.dtypes\n",
    "# df.dropna()\n",
    "df.describe()\n",
    "# df = df.iloc[:-5] # Removing bottom 5 rows using Slicing \n",
    "# # df\n",
    "df.drop(df.tail(48000).index, inplace=True)# Removing permanently 48000 rows FRO Manipulation only in reality it is there \n",
    "# df\n",
    "df.describe()\n",
    "# df.dtypes\n",
    "# # Hanling missing values\n",
    "df.isnull()# Null valuess present in the rows\n",
    "df.isnull().any(axis=1) # Null values present in each Row\n",
    "df.isnull().any()# w.r.t colunm\n",
    "df.isnull().sum()#CountOf Null in the colunms\n"
   ]
  },
  {
   "cell_type": "code",
   "execution_count": 190,
   "metadata": {},
   "outputs": [
    {
     "data": {
      "text/html": [
       "<div>\n",
       "<style scoped>\n",
       "    .dataframe tbody tr th:only-of-type {\n",
       "        vertical-align: middle;\n",
       "    }\n",
       "\n",
       "    .dataframe tbody tr th {\n",
       "        vertical-align: top;\n",
       "    }\n",
       "\n",
       "    .dataframe thead th {\n",
       "        text-align: right;\n",
       "    }\n",
       "</style>\n",
       "<table border=\"1\" class=\"dataframe\">\n",
       "  <thead>\n",
       "    <tr style=\"text-align: right;\">\n",
       "      <th></th>\n",
       "      <th>pizza_id</th>\n",
       "      <th>order_id</th>\n",
       "      <th>pizza_name_id</th>\n",
       "      <th>quantity</th>\n",
       "      <th>order_date</th>\n",
       "      <th>order_time</th>\n",
       "      <th>unit_price</th>\n",
       "      <th>total_price</th>\n",
       "      <th>pizza_size</th>\n",
       "      <th>pizza_category</th>\n",
       "      <th>pizza_ingredients</th>\n",
       "      <th>pizza_name</th>\n",
       "      <th>NAprice</th>\n",
       "    </tr>\n",
       "  </thead>\n",
       "  <tbody>\n",
       "    <tr>\n",
       "      <th>0</th>\n",
       "      <td>1</td>\n",
       "      <td>1</td>\n",
       "      <td>hawaiian_m</td>\n",
       "      <td>1</td>\n",
       "      <td>2015-01-01</td>\n",
       "      <td>11:38:36</td>\n",
       "      <td>13.25</td>\n",
       "      <td>13.25</td>\n",
       "      <td>M</td>\n",
       "      <td>Classic</td>\n",
       "      <td>Sliced Ham, Pineapple, Mozzarella Cheese</td>\n",
       "      <td>The Hawaiian Pizza</td>\n",
       "      <td>13.250000</td>\n",
       "    </tr>\n",
       "    <tr>\n",
       "      <th>1</th>\n",
       "      <td>2</td>\n",
       "      <td>2</td>\n",
       "      <td>classic_dlx_m</td>\n",
       "      <td>1</td>\n",
       "      <td>2015-01-01</td>\n",
       "      <td>11:57:40</td>\n",
       "      <td>16.00</td>\n",
       "      <td>16.00</td>\n",
       "      <td>M</td>\n",
       "      <td>Classic</td>\n",
       "      <td>Pepperoni, Mushrooms, Red Onions, Red Peppers,...</td>\n",
       "      <td>NaN</td>\n",
       "      <td>16.000000</td>\n",
       "    </tr>\n",
       "    <tr>\n",
       "      <th>2</th>\n",
       "      <td>3</td>\n",
       "      <td>2</td>\n",
       "      <td>five_cheese_l</td>\n",
       "      <td>1</td>\n",
       "      <td>2015-01-01</td>\n",
       "      <td>11:57:40</td>\n",
       "      <td>18.50</td>\n",
       "      <td>18.50</td>\n",
       "      <td>L</td>\n",
       "      <td>Veggie</td>\n",
       "      <td>Mozzarella Cheese, Provolone Cheese, Smoked Go...</td>\n",
       "      <td>The Five Cheese Pizza</td>\n",
       "      <td>18.500000</td>\n",
       "    </tr>\n",
       "    <tr>\n",
       "      <th>3</th>\n",
       "      <td>4</td>\n",
       "      <td>2</td>\n",
       "      <td>ital_supr_l</td>\n",
       "      <td>1</td>\n",
       "      <td>2015-01-01</td>\n",
       "      <td>11:57:40</td>\n",
       "      <td>20.75</td>\n",
       "      <td>20.75</td>\n",
       "      <td>L</td>\n",
       "      <td>Supreme</td>\n",
       "      <td>Calabrese Salami, Capocollo, Tomatoes, Red Oni...</td>\n",
       "      <td>The Italian Supreme Pizza</td>\n",
       "      <td>20.750000</td>\n",
       "    </tr>\n",
       "    <tr>\n",
       "      <th>4</th>\n",
       "      <td>5</td>\n",
       "      <td>2</td>\n",
       "      <td>mexicana_m</td>\n",
       "      <td>1</td>\n",
       "      <td>2015-01-01</td>\n",
       "      <td>11:57:40</td>\n",
       "      <td>NaN</td>\n",
       "      <td>16.00</td>\n",
       "      <td>M</td>\n",
       "      <td>Veggie</td>\n",
       "      <td>Tomatoes, Red Peppers, Jalapeno Peppers, Red O...</td>\n",
       "      <td>The Mexicana Pizza</td>\n",
       "      <td>16.745462</td>\n",
       "    </tr>\n",
       "    <tr>\n",
       "      <th>...</th>\n",
       "      <td>...</td>\n",
       "      <td>...</td>\n",
       "      <td>...</td>\n",
       "      <td>...</td>\n",
       "      <td>...</td>\n",
       "      <td>...</td>\n",
       "      <td>...</td>\n",
       "      <td>...</td>\n",
       "      <td>...</td>\n",
       "      <td>...</td>\n",
       "      <td>...</td>\n",
       "      <td>...</td>\n",
       "      <td>...</td>\n",
       "    </tr>\n",
       "    <tr>\n",
       "      <th>615</th>\n",
       "      <td>616</td>\n",
       "      <td>271</td>\n",
       "      <td>ital_supr_m</td>\n",
       "      <td>1</td>\n",
       "      <td>2015-01-05</td>\n",
       "      <td>14:22:19</td>\n",
       "      <td>16.50</td>\n",
       "      <td>16.50</td>\n",
       "      <td>M</td>\n",
       "      <td>Supreme</td>\n",
       "      <td>Calabrese Salami, Capocollo, Tomatoes, Red Oni...</td>\n",
       "      <td>The Italian Supreme Pizza</td>\n",
       "      <td>16.500000</td>\n",
       "    </tr>\n",
       "    <tr>\n",
       "      <th>616</th>\n",
       "      <td>617</td>\n",
       "      <td>271</td>\n",
       "      <td>sicilian_s</td>\n",
       "      <td>1</td>\n",
       "      <td>2015-01-05</td>\n",
       "      <td>14:22:19</td>\n",
       "      <td>12.25</td>\n",
       "      <td>12.25</td>\n",
       "      <td>S</td>\n",
       "      <td>Supreme</td>\n",
       "      <td>Coarse Sicilian Salami, Tomatoes, Green Olives...</td>\n",
       "      <td>The Sicilian Pizza</td>\n",
       "      <td>12.250000</td>\n",
       "    </tr>\n",
       "    <tr>\n",
       "      <th>617</th>\n",
       "      <td>618</td>\n",
       "      <td>271</td>\n",
       "      <td>soppressata_m</td>\n",
       "      <td>1</td>\n",
       "      <td>2015-01-05</td>\n",
       "      <td>14:22:19</td>\n",
       "      <td>16.50</td>\n",
       "      <td>16.50</td>\n",
       "      <td>M</td>\n",
       "      <td>Supreme</td>\n",
       "      <td>Soppressata Salami, Fontina Cheese, Mozzarella...</td>\n",
       "      <td>The Soppressata Pizza</td>\n",
       "      <td>16.500000</td>\n",
       "    </tr>\n",
       "    <tr>\n",
       "      <th>618</th>\n",
       "      <td>619</td>\n",
       "      <td>271</td>\n",
       "      <td>southw_ckn_m</td>\n",
       "      <td>1</td>\n",
       "      <td>2015-01-05</td>\n",
       "      <td>14:22:19</td>\n",
       "      <td>16.75</td>\n",
       "      <td>16.75</td>\n",
       "      <td>M</td>\n",
       "      <td>Chicken</td>\n",
       "      <td>Chicken, Tomatoes, Red Peppers, Red Onions, Ja...</td>\n",
       "      <td>The Southwest Chicken Pizza</td>\n",
       "      <td>16.750000</td>\n",
       "    </tr>\n",
       "    <tr>\n",
       "      <th>619</th>\n",
       "      <td>620</td>\n",
       "      <td>271</td>\n",
       "      <td>the_greek_s</td>\n",
       "      <td>1</td>\n",
       "      <td>2015-01-05</td>\n",
       "      <td>14:22:19</td>\n",
       "      <td>12.00</td>\n",
       "      <td>12.00</td>\n",
       "      <td>S</td>\n",
       "      <td>Classic</td>\n",
       "      <td>Kalamata Olives, Feta Cheese, Tomatoes, Garlic...</td>\n",
       "      <td>The Greek Pizza</td>\n",
       "      <td>12.000000</td>\n",
       "    </tr>\n",
       "  </tbody>\n",
       "</table>\n",
       "<p>620 rows × 13 columns</p>\n",
       "</div>"
      ],
      "text/plain": [
       "     pizza_id  order_id  pizza_name_id  quantity  order_date order_time  \\\n",
       "0           1         1     hawaiian_m         1  2015-01-01   11:38:36   \n",
       "1           2         2  classic_dlx_m         1  2015-01-01   11:57:40   \n",
       "2           3         2  five_cheese_l         1  2015-01-01   11:57:40   \n",
       "3           4         2    ital_supr_l         1  2015-01-01   11:57:40   \n",
       "4           5         2     mexicana_m         1  2015-01-01   11:57:40   \n",
       "..        ...       ...            ...       ...         ...        ...   \n",
       "615       616       271    ital_supr_m         1  2015-01-05   14:22:19   \n",
       "616       617       271     sicilian_s         1  2015-01-05   14:22:19   \n",
       "617       618       271  soppressata_m         1  2015-01-05   14:22:19   \n",
       "618       619       271   southw_ckn_m         1  2015-01-05   14:22:19   \n",
       "619       620       271    the_greek_s         1  2015-01-05   14:22:19   \n",
       "\n",
       "     unit_price  total_price pizza_size pizza_category  \\\n",
       "0         13.25        13.25          M        Classic   \n",
       "1         16.00        16.00          M        Classic   \n",
       "2         18.50        18.50          L         Veggie   \n",
       "3         20.75        20.75          L        Supreme   \n",
       "4           NaN        16.00          M         Veggie   \n",
       "..          ...          ...        ...            ...   \n",
       "615       16.50        16.50          M        Supreme   \n",
       "616       12.25        12.25          S        Supreme   \n",
       "617       16.50        16.50          M        Supreme   \n",
       "618       16.75        16.75          M        Chicken   \n",
       "619       12.00        12.00          S        Classic   \n",
       "\n",
       "                                     pizza_ingredients  \\\n",
       "0             Sliced Ham, Pineapple, Mozzarella Cheese   \n",
       "1    Pepperoni, Mushrooms, Red Onions, Red Peppers,...   \n",
       "2    Mozzarella Cheese, Provolone Cheese, Smoked Go...   \n",
       "3    Calabrese Salami, Capocollo, Tomatoes, Red Oni...   \n",
       "4    Tomatoes, Red Peppers, Jalapeno Peppers, Red O...   \n",
       "..                                                 ...   \n",
       "615  Calabrese Salami, Capocollo, Tomatoes, Red Oni...   \n",
       "616  Coarse Sicilian Salami, Tomatoes, Green Olives...   \n",
       "617  Soppressata Salami, Fontina Cheese, Mozzarella...   \n",
       "618  Chicken, Tomatoes, Red Peppers, Red Onions, Ja...   \n",
       "619  Kalamata Olives, Feta Cheese, Tomatoes, Garlic...   \n",
       "\n",
       "                      pizza_name    NAprice  \n",
       "0             The Hawaiian Pizza  13.250000  \n",
       "1                            NaN  16.000000  \n",
       "2          The Five Cheese Pizza  18.500000  \n",
       "3      The Italian Supreme Pizza  20.750000  \n",
       "4             The Mexicana Pizza  16.745462  \n",
       "..                           ...        ...  \n",
       "615    The Italian Supreme Pizza  16.500000  \n",
       "616           The Sicilian Pizza  12.250000  \n",
       "617        The Soppressata Pizza  16.500000  \n",
       "618  The Southwest Chicken Pizza  16.750000  \n",
       "619              The Greek Pizza  12.000000  \n",
       "\n",
       "[620 rows x 13 columns]"
      ]
     },
     "execution_count": 190,
     "metadata": {},
     "output_type": "execute_result"
    }
   ],
   "source": [
    "#Handling with missing Values \n",
    "# df.fillna(0)\n",
    "# df_filled = df.fillna(0)#Replacing in actual data \n",
    "df[\"NAprice\"]=df['unit_price'].fillna(df[\"unit_price\"].mean()) #Adding a new colunm which will have the null value replaced with the mean of data along with all the ither actual data values \n",
    "# df.fillna(\"Missing\")#replacement for categorical values \n",
    "# df.head(5)\n",
    "df"
   ]
  },
  {
   "cell_type": "code",
   "execution_count": 208,
   "metadata": {},
   "outputs": [],
   "source": [
    "# Renaiming colunms\n",
    "df = df.rename(columns={'pizza_id' : 'ID'} )\n",
    "df.describe()\n",
    "#Changing data types \n",
    "df.dtypes\n",
    "df['qty']=df['quantity'].astype(int)"
   ]
  },
  {
   "cell_type": "code",
   "execution_count": 214,
   "metadata": {},
   "outputs": [
    {
     "data": {
      "text/html": [
       "<div>\n",
       "<style scoped>\n",
       "    .dataframe tbody tr th:only-of-type {\n",
       "        vertical-align: middle;\n",
       "    }\n",
       "\n",
       "    .dataframe tbody tr th {\n",
       "        vertical-align: top;\n",
       "    }\n",
       "\n",
       "    .dataframe thead th {\n",
       "        text-align: right;\n",
       "    }\n",
       "</style>\n",
       "<table border=\"1\" class=\"dataframe\">\n",
       "  <thead>\n",
       "    <tr style=\"text-align: right;\">\n",
       "      <th></th>\n",
       "      <th>ID</th>\n",
       "      <th>order_id</th>\n",
       "      <th>pizza_name_id</th>\n",
       "      <th>quantity</th>\n",
       "      <th>order_date</th>\n",
       "      <th>order_time</th>\n",
       "      <th>unit_price</th>\n",
       "      <th>total_price</th>\n",
       "      <th>pizza_size</th>\n",
       "      <th>pizza_category</th>\n",
       "      <th>pizza_ingredients</th>\n",
       "      <th>pizza_name</th>\n",
       "      <th>qty</th>\n",
       "      <th>uNew_price</th>\n",
       "    </tr>\n",
       "  </thead>\n",
       "  <tbody>\n",
       "    <tr>\n",
       "      <th>0</th>\n",
       "      <td>1</td>\n",
       "      <td>1</td>\n",
       "      <td>hawaiian_m</td>\n",
       "      <td>1</td>\n",
       "      <td>2015-01-01</td>\n",
       "      <td>11:38:36</td>\n",
       "      <td>13.25</td>\n",
       "      <td>13.25</td>\n",
       "      <td>M</td>\n",
       "      <td>Classic</td>\n",
       "      <td>Sliced Ham, Pineapple, Mozzarella Cheese</td>\n",
       "      <td>The Hawaiian Pizza</td>\n",
       "      <td>1</td>\n",
       "      <td>15.25</td>\n",
       "    </tr>\n",
       "    <tr>\n",
       "      <th>1</th>\n",
       "      <td>2</td>\n",
       "      <td>2</td>\n",
       "      <td>classic_dlx_m</td>\n",
       "      <td>1</td>\n",
       "      <td>2015-01-01</td>\n",
       "      <td>11:57:40</td>\n",
       "      <td>16.00</td>\n",
       "      <td>16.00</td>\n",
       "      <td>M</td>\n",
       "      <td>Classic</td>\n",
       "      <td>Pepperoni, Mushrooms, Red Onions, Red Peppers,...</td>\n",
       "      <td>NaN</td>\n",
       "      <td>1</td>\n",
       "      <td>18.00</td>\n",
       "    </tr>\n",
       "  </tbody>\n",
       "</table>\n",
       "</div>"
      ],
      "text/plain": [
       "   ID  order_id  pizza_name_id  quantity  order_date order_time  unit_price  \\\n",
       "0   1         1     hawaiian_m         1  2015-01-01   11:38:36       13.25   \n",
       "1   2         2  classic_dlx_m         1  2015-01-01   11:57:40       16.00   \n",
       "\n",
       "   total_price pizza_size pizza_category  \\\n",
       "0        13.25          M        Classic   \n",
       "1        16.00          M        Classic   \n",
       "\n",
       "                                   pizza_ingredients          pizza_name  qty  \\\n",
       "0           Sliced Ham, Pineapple, Mozzarella Cheese  The Hawaiian Pizza    1   \n",
       "1  Pepperoni, Mushrooms, Red Onions, Red Peppers,...                 NaN    1   \n",
       "\n",
       "   uNew_price  \n",
       "0       15.25  \n",
       "1       18.00  "
      ]
     },
     "execution_count": 214,
     "metadata": {},
     "output_type": "execute_result"
    }
   ],
   "source": [
    "#Doing specific operations \n",
    "df['uNew_price']=df['unit_price'].apply(lambda x:x+2)\n",
    "df.head(2)"
   ]
  },
  {
   "cell_type": "code",
   "execution_count": null,
   "metadata": {},
   "outputs": [
    {
     "name": "stdout",
     "output_type": "stream",
     "text": [
      "          mean  median       sum\n",
      "qty                             \n",
      "1    16.739604   16.50  10144.20\n",
      "2    16.694444   16.75    150.25\n",
      "3    18.750000   18.75     37.50\n"
     ]
    }
   ],
   "source": [
    "#Groupng and Aggregation\n",
    "grouped_meana = df.groupby('pizza_size')['unit_price'].mean()\n",
    "grouped_all = df.groupby(['pizza_size','qty'])['unit_price'].mean()#Grouping with multiple colunms\n",
    "grouped_agg = df.groupby('qty')['unit_price'].agg(['mean','median','sum'])# multiple agggregating functions\n",
    "print(grouped_agg)"
   ]
  },
  {
   "cell_type": "code",
   "execution_count": 238,
   "metadata": {},
   "outputs": [
    {
     "name": "stdout",
     "output_type": "stream",
     "text": [
      "DataFrame 1:\n",
      "  Key  Value1\n",
      "0   A      68\n",
      "1   B      68\n",
      "2   C      66\n",
      "3   D      16\n",
      "DataFrame 2:\n",
      "  Key  Value2\n",
      "0   A      47\n",
      "1   B      47\n",
      "2   C       4\n",
      "3   E      44\n",
      "Merged DataFrame:\n",
      "  Key  Value1  Value2\n",
      "0   A    68.0    47.0\n",
      "1   B    68.0    47.0\n",
      "2   C    66.0     4.0\n",
      "3   D    16.0     NaN\n",
      "4   E     NaN    44.0\n",
      "Merged DataFrame:\n",
      "  Key  Value1 Key  Value2\n",
      "0   A      68   A      47\n",
      "1   B      68   B      47\n",
      "2   C      66   C       4\n",
      "3   D      16   E      44\n"
     ]
    }
   ],
   "source": [
    "#Merging and joining DataFrames \n",
    "# Create two Pandas DataFrames with a common column\n",
    "df1 = pd.DataFrame({'Key': ['A', 'B', 'C', 'D'], 'Value1': np.random.randint(1, 100, size=4)})\n",
    "df2 = pd.DataFrame({'Key': ['A', 'B', 'C', 'E'], 'Value2': np.random.randint(1, 100, size=4)})\n",
    "print(\"DataFrame 1:\")\n",
    "print(df1)\n",
    "print(\"DataFrame 2:\")\n",
    "print(df2)\n",
    "\n",
    "# Merge the DataFrames using the common column\n",
    "merged = pd.merge(df1, df2, on='Key',how='outer')\n",
    "print(\"Merged DataFrame:\")\n",
    "print(merged)\n",
    "#Concatenating\n",
    "# RoConcat = pd.concat([df1, df2],axis = 0)\n",
    "# print(\"Merged DataFrame:\")\n",
    "# print(RoConcat)\n",
    "\n",
    "#Concatenating\n",
    "coConcat = pd.concat([df1, df2],axis = 1)\n",
    "print(\"Merged DataFrame:\")\n",
    "print(coConcat)"
   ]
  },
  {
   "cell_type": "markdown",
   "metadata": {},
   "source": [
    "## MATPLOTLIB"
   ]
  },
  {
   "cell_type": "code",
   "execution_count": null,
   "metadata": {},
   "outputs": [],
   "source": [
    "# Use to download a specific library for a specific environment\n",
    "%pip install matplotlib"
   ]
  },
  {
   "cell_type": "code",
   "execution_count": null,
   "metadata": {},
   "outputs": [],
   "source": [
    "import matplotlib.pyplot as plt \n",
    "x =[1,2,3,4,5] #xcooordinate\n",
    "y = [1,4,9,16,25]#Y coordinate\n",
    "#Creatin a line daiagram\n",
    "plt.plot(x,y)\n",
    "plt.xlabel('X axis')\n",
    "plt.ylabel('Y axis')\n",
    "plt.title(\"Line Graph\")"
   ]
  },
  {
   "cell_type": "code",
   "execution_count": null,
   "metadata": {},
   "outputs": [],
   "source": [
    "#Customized Line plot \n",
    "x =[1,2,3,4,5] #xcooordinate\n",
    "y = [1,4,9,16,25]#Y coordinate\n",
    "#Creatin a line daiagram\n",
    "\n",
    "plt.plot(x,y, color ='red', linestyle = '-.', marker ='*', linewidth= 2 , markersize =9)\n",
    "plt.xlabel('X axis')\n",
    "plt.ylabel('Y axis')\n",
    "plt.title(\"Line Graph\")\n"
   ]
  },
  {
   "cell_type": "code",
   "execution_count": 55,
   "metadata": {},
   "outputs": [
    {
     "data": {
      "text/plain": [
       "Text(0.5, 1.0, 'Plt 3')"
      ]
     },
     "execution_count": 55,
     "metadata": {},
     "output_type": "execute_result"
    },
    {
     "data": {
      "image/png": "[encoded data removed]",
      "text/plain": [
       "<Figure size 900x500 with 3 Axes>"
      ]
     },
     "metadata": {},
     "output_type": "display_data"
    }
   ],
   "source": [
    "#MultiPLot\n",
    "x =[1,2,3,4,5] #xcooordinate\n",
    "y = [1,4,9,16,25]#Y coordinate\n",
    "z=[1,2,3,4,5]\n",
    "\n",
    "plt.figure(figsize=(9,5))\n",
    "\n",
    "plt.subplot(2,2,1) # 2,2 means  1 ROW and  2 Colunm bixes ini output  etc>>1 means the place at which it should be\n",
    "plt.plot(x,y,color='green') \n",
    "plt.title(\"Plt 1\")  \n",
    "\n",
    "plt.subplot(2,2,2)  #If we same the third position of n=both the plots they will merged \n",
    "plt.plot(x,z,color='red')\n",
    "plt.title(\"Plt 2\") \n",
    "\n",
    "\n",
    "plt.subplot(2,2,3)  #If we same the third position of n=both the plots they will merged \n",
    "plt.plot(x,z,color='blue')\n",
    "plt.title(\"Plt 3\") "
   ]
  },
  {
   "cell_type": "code",
   "execution_count": 57,
   "metadata": {},
   "outputs": [
    {
     "data": {
      "text/plain": [
       "<BarContainer object of 5 artists>"
      ]
     },
     "execution_count": 57,
     "metadata": {},
     "output_type": "execute_result"
    },
    {
     "data": {
      "image/png": "[encoded data removed]",
      "text/plain": [
       "<Figure size 640x480 with 1 Axes>"
      ]
     },
     "metadata": {},
     "output_type": "display_data"
    }
   ],
   "source": [
    "# Bar plot\n",
    "categories = ['a','b','c','d','e']\n",
    "values = [3,5,6,1,5]\n",
    "\n",
    "plt.bar(categories,values , color = 'purple' )"
   ]
  },
  {
   "cell_type": "code",
   "execution_count": 62,
   "metadata": {},
   "outputs": [
    {
     "data": {
      "text/plain": [
       "(array([5., 4., 1., 1.]),\n",
       " array([23.  , 38.25, 53.5 , 68.75, 84.  ]),\n",
       " <BarContainer object of 4 artists>)"
      ]
     },
     "execution_count": 62,
     "metadata": {},
     "output_type": "execute_result"
    },
    {
     "data": {
      "image/png": "[encoded data removed]",
      "text/plain": [
       "<Figure size 640x480 with 1 Axes>"
      ]
     },
     "metadata": {},
     "output_type": "display_data"
    }
   ],
   "source": [
    "data = [30,52,61,33,52,44,32,23,43,84,34]\n",
    "\n",
    "plt.hist(data , bins = 4 , color = 'orange', edgecolor = 'purple')"
   ]
  },
  {
   "cell_type": "code",
   "execution_count": 72,
   "metadata": {},
   "outputs": [
    {
     "data": {
      "text/plain": [
       "<matplotlib.collections.PathCollection at 0x1a222913aa0>"
      ]
     },
     "execution_count": 72,
     "metadata": {},
     "output_type": "execute_result"
    },
    {
     "data": {
      "image/png": "[encoded data removed]",
      "text/plain": [
       "<Figure size 640x480 with 1 Axes>"
      ]
     },
     "metadata": {},
     "output_type": "display_data"
    }
   ],
   "source": [
    "#Scatter Plot \n",
    "x =[1,2,3,4,5] #xcooordinate\n",
    "y = [1,3,9,18,25]#Y \n",
    "\n",
    "plt.scatter(x,y ,color = 'green' , marker = 'x')"
   ]
  },
  {
   "cell_type": "code",
   "execution_count": 82,
   "metadata": {},
   "outputs": [
    {
     "data": {
      "text/plain": [
       "([<matplotlib.patches.Wedge at 0x1a228513ad0>,\n",
       "  <matplotlib.patches.Wedge at 0x1a228513a10>,\n",
       "  <matplotlib.patches.Wedge at 0x1a2285449e0>,\n",
       "  <matplotlib.patches.Wedge at 0x1a2280773b0>,\n",
       "  <matplotlib.patches.Wedge at 0x1a228545970>],\n",
       " [Text(1.1712595092216371, 0.5640489004136873, 'a'),\n",
       "  Text(-0.08220322789841819, 1.0969241675353318, 'b'),\n",
       "  Text(-1.0877138714965104, -0.1639467406021628, 'c'),\n",
       "  Text(-0.24477260120619015, -1.0724208006649047, 'd'),\n",
       "  Text(0.8063571997401604, -0.7481898598799688, 'e')],\n",
       " [Text(0.7207750825979304, 0.34710701563919216, '14.3%'),\n",
       "  Text(-0.044838124308228096, 0.5983222732010901, '23.8%'),\n",
       "  Text(-0.593298475361733, -0.08942549487390698, '28.6%'),\n",
       "  Text(-0.13351232793064916, -0.5849568003626753, '9.5%'),\n",
       "  Text(0.43983119985826924, -0.40810355993452835, '23.8%')])"
      ]
     },
     "execution_count": 82,
     "metadata": {},
     "output_type": "execute_result"
    },
    {
     "data": {
      "image/png": "[encoded data removed]",
      "text/plain": [
       "<Figure size 640x480 with 1 Axes>"
      ]
     },
     "metadata": {},
     "output_type": "display_data"
    }
   ],
   "source": [
    "# Pie Chart\n",
    "\n",
    "labels = ['a','b','c','d','e']\n",
    "values = [30,50,60,20,50]\n",
    "colors = ['gold' , 'purple', 'green' , 'orange', 'blue']\n",
    "explode = (0.2, 0,0,0,0)\n",
    "\n",
    "plt.pie(values , explode = explode , labels = labels ,colors = colors , autopct= '%1.1f%%' , shadow = True)"
   ]
  },
  {
   "cell_type": "code",
   "execution_count": 111,
   "metadata": {},
   "outputs": [
    {
     "data": {
      "text/plain": [
       "<BarContainer object of 620 artists>"
      ]
     },
     "execution_count": 111,
     "metadata": {},
     "output_type": "execute_result"
    },
    {
     "data": {
      "image/png": "[encoded data removed]",
      "text/plain": [
       "<Figure size 640x480 with 1 Axes>"
      ]
     },
     "metadata": {},
     "output_type": "display_data"
    }
   ],
   "source": [
    "import pandas as pd\n",
    "\n",
    "df = pd.read_csv(\"pizza_sales.csv\")\n",
    "\n",
    "df.head(5) \n",
    "df.fillna(0)\n",
    "df.drop(df.tail(48000).index, inplace=True)\n",
    "df['up']= df['unit_price'].fillna(df['unit_price'].mean()).astype(int)\n",
    "plt.bar(df['pizza_size'] , df['up']  ,color = 'teal', edgecolor = 'black') "
   ]
  },
  {
   "cell_type": "markdown",
   "metadata": {},
   "source": [
    "## SEABORN"
   ]
  },
  {
   "cell_type": "code",
   "execution_count": 112,
   "metadata": {},
   "outputs": [
    {
     "name": "stdout",
     "output_type": "stream",
     "text": [
      "Collecting seaborn\n",
      "  Downloading seaborn-0.13.2-py3-none-any.whl.metadata (5.4 kB)\n",
      "Requirement already satisfied: numpy!=1.24.0,>=1.20 in c:\\users\\track computers\\appdata\\local\\programs\\python\\python312\\lib\\site-packages (from seaborn) (2.1.1)\n",
      "Requirement already satisfied: pandas>=1.2 in c:\\users\\track computers\\appdata\\local\\programs\\python\\python312\\lib\\site-packages (from seaborn) (2.2.3)\n",
      "Requirement already satisfied: matplotlib!=3.6.1,>=3.4 in c:\\users\\track computers\\appdata\\local\\programs\\python\\python312\\lib\\site-packages (from seaborn) (3.9.2)\n",
      "Requirement already satisfied: contourpy>=1.0.1 in c:\\users\\track computers\\appdata\\local\\programs\\python\\python312\\lib\\site-packages (from matplotlib!=3.6.1,>=3.4->seaborn) (1.3.0)\n",
      "Requirement already satisfied: cycler>=0.10 in c:\\users\\track computers\\appdata\\local\\programs\\python\\python312\\lib\\site-packages (from matplotlib!=3.6.1,>=3.4->seaborn) (0.12.1)\n",
      "Requirement already satisfied: fonttools>=4.22.0 in c:\\users\\track computers\\appdata\\local\\programs\\python\\python312\\lib\\site-packages (from matplotlib!=3.6.1,>=3.4->seaborn) (4.54.1)\n",
      "Requirement already satisfied: kiwisolver>=1.3.1 in c:\\users\\track computers\\appdata\\local\\programs\\python\\python312\\lib\\site-packages (from matplotlib!=3.6.1,>=3.4->seaborn) (1.4.7)\n",
      "Requirement already satisfied: packaging>=20.0 in c:\\users\\track computers\\appdata\\local\\programs\\python\\python312\\lib\\site-packages (from matplotlib!=3.6.1,>=3.4->seaborn) (24.1)\n",
      "Requirement already satisfied: pillow>=8 in c:\\users\\track computers\\appdata\\local\\programs\\python\\python312\\lib\\site-packages (from matplotlib!=3.6.1,>=3.4->seaborn) (10.4.0)\n",
      "Requirement already satisfied: pyparsing>=2.3.1 in c:\\users\\track computers\\appdata\\local\\programs\\python\\python312\\lib\\site-packages (from matplotlib!=3.6.1,>=3.4->seaborn) (3.1.4)\n",
      "Requirement already satisfied: python-dateutil>=2.7 in c:\\users\\track computers\\appdata\\local\\programs\\python\\python312\\lib\\site-packages (from matplotlib!=3.6.1,>=3.4->seaborn) (2.9.0.post0)\n",
      "Requirement already satisfied: pytz>=2020.1 in c:\\users\\track computers\\appdata\\local\\programs\\python\\python312\\lib\\site-packages (from pandas>=1.2->seaborn) (2024.2)\n",
      "Requirement already satisfied: tzdata>=2022.7 in c:\\users\\track computers\\appdata\\local\\programs\\python\\python312\\lib\\site-packages (from pandas>=1.2->seaborn) (2024.2)\n",
      "Requirement already satisfied: six>=1.5 in c:\\users\\track computers\\appdata\\local\\programs\\python\\python312\\lib\\site-packages (from python-dateutil>=2.7->matplotlib!=3.6.1,>=3.4->seaborn) (1.16.0)\n",
      "Downloading seaborn-0.13.2-py3-none-any.whl (294 kB)\n",
      "Installing collected packages: seaborn\n",
      "Successfully installed seaborn-0.13.2\n",
      "Note: you may need to restart the kernel to use updated packages.\n"
     ]
    },
    {
     "name": "stderr",
     "output_type": "stream",
     "text": [
      "WARNING: Ignoring invalid distribution ~ip (c:\\Users\\Track Computers\\AppData\\Local\\Programs\\Python\\Python312\\Lib\\site-packages)\n",
      "WARNING: Ignoring invalid distribution ~ip (c:\\Users\\Track Computers\\AppData\\Local\\Programs\\Python\\Python312\\Lib\\site-packages)\n",
      "WARNING: Ignoring invalid distribution ~ip (c:\\Users\\Track Computers\\AppData\\Local\\Programs\\Python\\Python312\\Lib\\site-packages)\n"
     ]
    }
   ],
   "source": [
    "%pip install seaborn"
   ]
  },
  {
   "cell_type": "code",
   "execution_count": 1,
   "metadata": {},
   "outputs": [
    {
     "data": {
      "text/html": [
       "<div>\n",
       "<style scoped>\n",
       "    .dataframe tbody tr th:only-of-type {\n",
       "        vertical-align: middle;\n",
       "    }\n",
       "\n",
       "    .dataframe tbody tr th {\n",
       "        vertical-align: top;\n",
       "    }\n",
       "\n",
       "    .dataframe thead th {\n",
       "        text-align: right;\n",
       "    }\n",
       "</style>\n",
       "<table border=\"1\" class=\"dataframe\">\n",
       "  <thead>\n",
       "    <tr style=\"text-align: right;\">\n",
       "      <th></th>\n",
       "      <th>total_bill</th>\n",
       "      <th>tip</th>\n",
       "      <th>sex</th>\n",
       "      <th>smoker</th>\n",
       "      <th>day</th>\n",
       "      <th>time</th>\n",
       "      <th>size</th>\n",
       "    </tr>\n",
       "  </thead>\n",
       "  <tbody>\n",
       "    <tr>\n",
       "      <th>0</th>\n",
       "      <td>16.99</td>\n",
       "      <td>1.01</td>\n",
       "      <td>Female</td>\n",
       "      <td>No</td>\n",
       "      <td>Sun</td>\n",
       "      <td>Dinner</td>\n",
       "      <td>2</td>\n",
       "    </tr>\n",
       "    <tr>\n",
       "      <th>1</th>\n",
       "      <td>10.34</td>\n",
       "      <td>1.66</td>\n",
       "      <td>Male</td>\n",
       "      <td>No</td>\n",
       "      <td>Sun</td>\n",
       "      <td>Dinner</td>\n",
       "      <td>3</td>\n",
       "    </tr>\n",
       "    <tr>\n",
       "      <th>2</th>\n",
       "      <td>21.01</td>\n",
       "      <td>3.50</td>\n",
       "      <td>Male</td>\n",
       "      <td>No</td>\n",
       "      <td>Sun</td>\n",
       "      <td>Dinner</td>\n",
       "      <td>3</td>\n",
       "    </tr>\n",
       "    <tr>\n",
       "      <th>3</th>\n",
       "      <td>23.68</td>\n",
       "      <td>3.31</td>\n",
       "      <td>Male</td>\n",
       "      <td>No</td>\n",
       "      <td>Sun</td>\n",
       "      <td>Dinner</td>\n",
       "      <td>2</td>\n",
       "    </tr>\n",
       "    <tr>\n",
       "      <th>4</th>\n",
       "      <td>24.59</td>\n",
       "      <td>3.61</td>\n",
       "      <td>Female</td>\n",
       "      <td>No</td>\n",
       "      <td>Sun</td>\n",
       "      <td>Dinner</td>\n",
       "      <td>4</td>\n",
       "    </tr>\n",
       "    <tr>\n",
       "      <th>...</th>\n",
       "      <td>...</td>\n",
       "      <td>...</td>\n",
       "      <td>...</td>\n",
       "      <td>...</td>\n",
       "      <td>...</td>\n",
       "      <td>...</td>\n",
       "      <td>...</td>\n",
       "    </tr>\n",
       "    <tr>\n",
       "      <th>239</th>\n",
       "      <td>29.03</td>\n",
       "      <td>5.92</td>\n",
       "      <td>Male</td>\n",
       "      <td>No</td>\n",
       "      <td>Sat</td>\n",
       "      <td>Dinner</td>\n",
       "      <td>3</td>\n",
       "    </tr>\n",
       "    <tr>\n",
       "      <th>240</th>\n",
       "      <td>27.18</td>\n",
       "      <td>2.00</td>\n",
       "      <td>Female</td>\n",
       "      <td>Yes</td>\n",
       "      <td>Sat</td>\n",
       "      <td>Dinner</td>\n",
       "      <td>2</td>\n",
       "    </tr>\n",
       "    <tr>\n",
       "      <th>241</th>\n",
       "      <td>22.67</td>\n",
       "      <td>2.00</td>\n",
       "      <td>Male</td>\n",
       "      <td>Yes</td>\n",
       "      <td>Sat</td>\n",
       "      <td>Dinner</td>\n",
       "      <td>2</td>\n",
       "    </tr>\n",
       "    <tr>\n",
       "      <th>242</th>\n",
       "      <td>17.82</td>\n",
       "      <td>1.75</td>\n",
       "      <td>Male</td>\n",
       "      <td>No</td>\n",
       "      <td>Sat</td>\n",
       "      <td>Dinner</td>\n",
       "      <td>2</td>\n",
       "    </tr>\n",
       "    <tr>\n",
       "      <th>243</th>\n",
       "      <td>18.78</td>\n",
       "      <td>3.00</td>\n",
       "      <td>Female</td>\n",
       "      <td>No</td>\n",
       "      <td>Thur</td>\n",
       "      <td>Dinner</td>\n",
       "      <td>2</td>\n",
       "    </tr>\n",
       "  </tbody>\n",
       "</table>\n",
       "<p>244 rows × 7 columns</p>\n",
       "</div>"
      ],
      "text/plain": [
       "     total_bill   tip     sex smoker   day    time  size\n",
       "0         16.99  1.01  Female     No   Sun  Dinner     2\n",
       "1         10.34  1.66    Male     No   Sun  Dinner     3\n",
       "2         21.01  3.50    Male     No   Sun  Dinner     3\n",
       "3         23.68  3.31    Male     No   Sun  Dinner     2\n",
       "4         24.59  3.61  Female     No   Sun  Dinner     4\n",
       "..          ...   ...     ...    ...   ...     ...   ...\n",
       "239       29.03  5.92    Male     No   Sat  Dinner     3\n",
       "240       27.18  2.00  Female    Yes   Sat  Dinner     2\n",
       "241       22.67  2.00    Male    Yes   Sat  Dinner     2\n",
       "242       17.82  1.75    Male     No   Sat  Dinner     2\n",
       "243       18.78  3.00  Female     No  Thur  Dinner     2\n",
       "\n",
       "[244 rows x 7 columns]"
      ]
     },
     "execution_count": 1,
     "metadata": {},
     "output_type": "execute_result"
    }
   ],
   "source": [
    "import seaborn as sns \n",
    "#basic plotting\n",
    "\n",
    "tips = sns.load_dataset('tips') # already given data set for practice in library \n",
    "tips"
   ]
  },
  {
   "cell_type": "code",
   "execution_count": 117,
   "metadata": {},
   "outputs": [
    {
     "data": {
      "image/png": "[encoded data removed]",
      "text/plain": [
       "<Figure size 640x480 with 1 Axes>"
      ]
     },
     "metadata": {},
     "output_type": "display_data"
    }
   ],
   "source": [
    "#Scatter plot \n",
    "\n",
    "sns.scatterplot(x='total_bill' , y= 'tip', data = tips )\n",
    "plt.title(\"Scatter Plot\")\n",
    "plt.show()"
   ]
  },
  {
   "cell_type": "code",
   "execution_count": 118,
   "metadata": {},
   "outputs": [
    {
     "data": {
      "image/png": "[encoded data removed]",
      "text/plain": [
       "<Figure size 640x480 with 1 Axes>"
      ]
     },
     "metadata": {},
     "output_type": "display_data"
    }
   ],
   "source": [
    "#Line plot \n",
    "sns.lineplot(x = 'size' , y = 'total_bill' , data = tips)\n",
    "\n",
    "plt.show()"
   ]
  },
  {
   "cell_type": "code",
   "execution_count": 4,
   "metadata": {},
   "outputs": [
    {
     "ename": "NameError",
     "evalue": "name 'plt' is not defined",
     "output_type": "error",
     "traceback": [
      "\u001b[1;31m---------------------------------------------------------------------------\u001b[0m",
      "\u001b[1;31mNameError\u001b[0m                                 Traceback (most recent call last)",
      "Cell \u001b[1;32mIn[4], line 5\u001b[0m\n\u001b[0;32m      1\u001b[0m \u001b[38;5;66;03m#Categorical Variables plot\u001b[39;00m\n\u001b[0;32m      2\u001b[0m \u001b[38;5;66;03m#BAr plot\u001b[39;00m\n\u001b[0;32m      3\u001b[0m sns\u001b[38;5;241m.\u001b[39mbarplot(x\u001b[38;5;241m=\u001b[39m\u001b[38;5;124m'\u001b[39m\u001b[38;5;124mday\u001b[39m\u001b[38;5;124m'\u001b[39m , y\u001b[38;5;241m=\u001b[39m \u001b[38;5;124m'\u001b[39m\u001b[38;5;124mtotal_bill\u001b[39m\u001b[38;5;124m'\u001b[39m , data \u001b[38;5;241m=\u001b[39m tips, estimator\u001b[38;5;241m=\u001b[39m \u001b[38;5;28msum\u001b[39m) \u001b[38;5;66;03m#Estimator ...Aggregation functiion\u001b[39;00m\n\u001b[1;32m----> 5\u001b[0m \u001b[43mplt\u001b[49m\u001b[38;5;241m.\u001b[39mshow()\n",
      "\u001b[1;31mNameError\u001b[0m: name 'plt' is not defined"
     ]
    },
    {
     "data": {
      "image/png": "[encoded data removed]",
      "text/plain": [
       "<Figure size 640x480 with 1 Axes>"
      ]
     },
     "metadata": {},
     "output_type": "display_data"
    }
   ],
   "source": [
    "#Categorical Variables plot\n",
    "#BAr plot\n",
    "sns.barplot(x='day' , y= 'total_bill' , data = tips, estimator= sum) #Estimator ...Aggregation functiion\n",
    "\n",
    "plt.show()"
   ]
  },
  {
   "cell_type": "code",
   "execution_count": 120,
   "metadata": {},
   "outputs": [
    {
     "data": {
      "image/png": "[encoded data removed]",
      "text/plain": [
       "<Figure size 640x480 with 1 Axes>"
      ]
     },
     "metadata": {},
     "output_type": "display_data"
    }
   ],
   "source": [
    "#Box plot s\n",
    "# circeles showing outliers \n",
    "sns.boxplot(x = 'day' , y = 'total_bill' , data = tips)\n",
    "\n",
    "plt.show() "
   ]
  },
  {
   "cell_type": "code",
   "execution_count": 122,
   "metadata": {},
   "outputs": [
    {
     "data": {
      "image/png": "[encoded data removed]",
      "text/plain": [
       "<Figure size 640x480 with 1 Axes>"
      ]
     },
     "metadata": {},
     "output_type": "display_data"
    }
   ],
   "source": [
    "# Voilin plot for distribution of data\n",
    "sns.violinplot(x = 'day' , y = 'total_bill' , data = tips)\n",
    "\n",
    "plt.show() "
   ]
  },
  {
   "cell_type": "code",
   "execution_count": 123,
   "metadata": {},
   "outputs": [
    {
     "data": {
      "image/png": "[encoded data removed]",
      "text/plain": [
       "<Figure size 640x480 with 1 Axes>"
      ]
     },
     "metadata": {},
     "output_type": "display_data"
    }
   ],
   "source": [
    "#histograma \n",
    "sns.histplot(tips['total_bill'] , bins =  10, kde = True) #kds == kernel density \n",
    " \n",
    "plt.show() "
   ]
  },
  {
   "cell_type": "code",
   "execution_count": 125,
   "metadata": {},
   "outputs": [
    {
     "name": "stderr",
     "output_type": "stream",
     "text": [
      "C:\\Users\\Track Computers\\AppData\\Local\\Temp\\ipykernel_664\\1307501323.py:1: FutureWarning: \n",
      "\n",
      "`shade` is now deprecated in favor of `fill`; setting `fill=True`.\n",
      "This will become an error in seaborn v0.14.0; please update your code.\n",
      "\n",
      "  sns.kdeplot(tips['total_bill'],shade = True)\n"
     ]
    },
    {
     "data": {
      "text/plain": [
       "<Axes: xlabel='total_bill', ylabel='Density'>"
      ]
     },
     "execution_count": 125,
     "metadata": {},
     "output_type": "execute_result"
    },
    {
     "data": {
      "image/png": "[encoded data removed]",
      "text/plain": [
       "<Figure size 640x480 with 1 Axes>"
      ]
     },
     "metadata": {},
     "output_type": "display_data"
    }
   ],
   "source": [
    "sns.kdeplot(tips['total_bill'],shade = True)"
   ]
  },
  {
   "cell_type": "code",
   "execution_count": 131,
   "metadata": {},
   "outputs": [
    {
     "data": {
      "text/plain": [
       "<seaborn.axisgrid.PairGrid at 0x1a26d63d5e0>"
      ]
     },
     "execution_count": 131,
     "metadata": {},
     "output_type": "execute_result"
    },
    {
     "data": {
      "image/png": "[encoded data removed]",
      "text/plain": [
       "<Figure size 750x750 with 12 Axes>"
      ]
     },
     "metadata": {},
     "output_type": "display_data"
    }
   ],
   "source": [
    "# Pair Plot \n",
    "# ONLY for numerical variables \n",
    "sns.pairplot(tips)"
   ]
  },
  {
   "cell_type": "code",
   "execution_count": 3,
   "metadata": {},
   "outputs": [
    {
     "ename": "NameError",
     "evalue": "name 'plt' is not defined",
     "output_type": "error",
     "traceback": [
      "\u001b[1;31m---------------------------------------------------------------------------\u001b[0m",
      "\u001b[1;31mNameError\u001b[0m                                 Traceback (most recent call last)",
      "Cell \u001b[1;32mIn[3], line 6\u001b[0m\n\u001b[0;32m      4\u001b[0m corr\n\u001b[0;32m      5\u001b[0m sns\u001b[38;5;241m.\u001b[39mheatmap(corr ,  annot \u001b[38;5;241m=\u001b[39m \u001b[38;5;28;01mTrue\u001b[39;00m ,  cmap \u001b[38;5;241m=\u001b[39m \u001b[38;5;124m'\u001b[39m\u001b[38;5;124mcoolwarm\u001b[39m\u001b[38;5;124m'\u001b[39m) \u001b[38;5;66;03m# cmapp>>>color map\u001b[39;00m\n\u001b[1;32m----> 6\u001b[0m \u001b[43mplt\u001b[49m\u001b[38;5;241m.\u001b[39mshow()\n",
      "\u001b[1;31mNameError\u001b[0m: name 'plt' is not defined"
     ]
    },
    {
     "data": {
      "image/png": "[encoded data removed]",
      "text/plain": [
       "<Figure size 640x480 with 2 Axes>"
      ]
     },
     "metadata": {},
     "output_type": "display_data"
    }
   ],
   "source": [
    "# Heatmap   /  correlatio tracker\n",
    "\n",
    "corr =  tips[['total_bill','tip','size']].corr() # ONly for numerical data \n",
    "corr\n",
    "sns.heatmap(corr ,  annot = True ,  cmap = 'coolwarm') # cmapp>>>color map\n",
    "plt.show()"
   ]
  },
  {
   "cell_type": "code",
   "execution_count": null,
   "metadata": {},
   "outputs": [],
   "source": []
  }
 ],
 "metadata": {
  "kernelspec": {
   "display_name": "Python 3",
   "language": "python",
   "name": "python3"
  },
  "language_info": {
   "codemirror_mode": {
    "name": "ipython",
    "version": 3
   },
   "file_extension": ".py",
   "mimetype": "text/x-python",
   "name": "python",
   "nbconvert_exporter": "python",
   "pygments_lexer": "ipython3",
   "version": "3.12.5"
  }
 },
 "nbformat": 4,
 "nbformat_minor": 2
}
