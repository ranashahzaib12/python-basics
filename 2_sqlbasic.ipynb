{
 "cells": [
  {
   "cell_type": "markdown",
   "metadata": {},
   "source": [
    "## Using SQL "
   ]
  },
  {
   "cell_type": "code",
   "execution_count": 7,
   "metadata": {},
   "outputs": [],
   "source": [
    "import sqlite3\n",
    "# Connecting to DB\n",
    "connection= sqlite3.connect(\"example.db\") # It auto created a DB file in our folder\n",
    "connection\n",
    "# Creating cursor to iterate all the tables/Rows\n",
    "cursor = connection.cursor()\n"
   ]
  },
  {
   "cell_type": "code",
   "execution_count": 10,
   "metadata": {},
   "outputs": [],
   "source": [
    "#Creating a table \n",
    "cursor.execute('''\n",
    "Create Table if Not Exists employees(\n",
    "    id Integer Primary key,\n",
    "    name Text Not Null,\n",
    "    age Integer,\n",
    "    department text\n",
    "    )              \n",
    "''')\n",
    "\n",
    "#commit the shanges (Means saving the change in the DB file)\n",
    "connection.commit()"
   ]
  },
  {
   "cell_type": "code",
   "execution_count": 15,
   "metadata": {},
   "outputs": [
    {
     "data": {
      "text/plain": [
       "<sqlite3.Cursor at 0x2bf4a937140>"
      ]
     },
     "execution_count": 15,
     "metadata": {},
     "output_type": "execute_result"
    }
   ],
   "source": [
    "cursor.execute('''\n",
    "Select * from employees\n",
    "                \n",
    "''')# Returining an object --- sqlite3.Cursor at 0x2bf4a937140> \n"
   ]
  },
  {
   "cell_type": "code",
   "execution_count": 14,
   "metadata": {},
   "outputs": [],
   "source": [
    "# Inseting data in the table\n",
    "cursor.execute('''\n",
    "Insert Into employees(name,age,department)\n",
    "values('rana',32 , 'Data')            \n",
    "''')\n",
    "cursor.execute('''\n",
    "Insert Into employees(name,age,department)\n",
    "values('gass',44 , 'Dasds')            \n",
    "''')\n",
    "cursor.execute('''\n",
    "Insert Into employees(name,age,department)\n",
    "values('nara',37 , 'gaksfsf')            \n",
    "''')\n",
    "cursor.execute('''\n",
    "Insert Into employees(name,age,department)\n",
    "values('rasss',23 , 'analyst')            \n",
    "''')\n",
    "\n",
    "connection.commit()"
   ]
  },
  {
   "cell_type": "code",
   "execution_count": null,
   "metadata": {},
   "outputs": [
    {
     "name": "stdout",
     "output_type": "stream",
     "text": [
      "(1, 'rana', 32, 'Data')\n",
      "(2, 'gass', 44, 'Dasds')\n",
      "(3, 'nara', 37, 'gaksfsf')\n",
      "(4, 'rasss', 23, 'analyst')\n"
     ]
    }
   ],
   "source": [
    "# Fetching Data from table \n",
    "cursor.execute('Select * from employees')\n",
    "rows = cursor.fetchall()\n",
    "\n",
    "for row in rows:\n",
    "    print(row) "
   ]
  },
  {
   "cell_type": "code",
   "execution_count": 20,
   "metadata": {},
   "outputs": [],
   "source": [
    "# Updating Data \n",
    "cursor.execute('''\n",
    "update employees\n",
    "set age = 21           \n",
    "where name = 'rana'\n",
    "''')\n",
    "\n",
    "connection.commit()"
   ]
  },
  {
   "cell_type": "code",
   "execution_count": null,
   "metadata": {},
   "outputs": [
    {
     "name": "stdout",
     "output_type": "stream",
     "text": [
      "(1, 'rana', 21, 'Data')\n",
      "(2, 'gass', 44, 'Dasds')\n",
      "(3, 'nara', 37, 'gaksfsf')\n",
      "(4, 'rasss', 23, 'analyst')\n"
     ]
    }
   ],
   "source": [
    "# Fetching Data from table \n",
    "cursor.execute('Select * from employees')\n",
    "rows = cursor.fetchall()\n",
    "\n",
    "for row in rows:\n",
    "    print(row)  "
   ]
  },
  {
   "cell_type": "code",
   "execution_count": null,
   "metadata": {},
   "outputs": [
    {
     "name": "stdout",
     "output_type": "stream",
     "text": [
      "(2, 'gass', 44, 'Dasds')\n",
      "(3, 'nara', 37, 'gaksfsf')\n",
      "(4, 'rasss', 23, 'analyst')\n"
     ]
    }
   ],
   "source": [
    "#Deletion\n",
    "cursor.execute( \"\"\" \n",
    "Delete from employees\n",
    "where name = 'rana'\n",
    "\"\"\"\n",
    ")\n",
    "connection.commit()\n",
    "\n",
    "# Fetching Data from table \n",
    "cursor.execute('Select * from employees')\n",
    "rows = cursor.fetchall()\n",
    "\n",
    "for row in rows:\n",
    "    print(row) "
   ]
  },
  {
   "cell_type": "code",
   "execution_count": 30,
   "metadata": {},
   "outputs": [],
   "source": [
    "# Project using \n",
    "\n",
    "connection = sqlite3.connect('pizza_sales.db')\n",
    "connection\n",
    "cursor = connection.cursor()"
   ]
  },
  {
   "cell_type": "code",
   "execution_count": null,
   "metadata": {},
   "outputs": [
    {
     "ename": "DatabaseError",
     "evalue": "file is not a database",
     "output_type": "error",
     "traceback": [
      "\u001b[1;31m---------------------------------------------------------------------------\u001b[0m",
      "\u001b[1;31mDatabaseError\u001b[0m                             Traceback (most recent call last)",
      "Cell \u001b[1;32mIn[31], line 1\u001b[0m\n\u001b[1;32m----> 1\u001b[0m \u001b[43mcursor\u001b[49m\u001b[38;5;241;43m.\u001b[39;49m\u001b[43mexecute\u001b[49m\u001b[43m(\u001b[49m\u001b[38;5;124;43m\"\"\"\u001b[39;49m\n\u001b[0;32m      2\u001b[0m \n\u001b[0;32m      3\u001b[0m \u001b[38;5;124;43mselect * from quantity,unit_price,total_price,pizza_size,pizza_category\u001b[39;49m\n\u001b[0;32m      4\u001b[0m \u001b[38;5;124;43m               \u001b[39;49m\n\u001b[0;32m      5\u001b[0m \u001b[38;5;124;43m\"\"\"\u001b[39;49m\u001b[43m)\u001b[49m\n\u001b[0;32m      6\u001b[0m rows \u001b[38;5;241m=\u001b[39m cursor\u001b[38;5;241m.\u001b[39mfetchall()\n\u001b[0;32m      8\u001b[0m \u001b[38;5;28;01mfor\u001b[39;00m row \u001b[38;5;129;01min\u001b[39;00m rows:\n",
      "\u001b[1;31mDatabaseError\u001b[0m: file is not a database"
     ]
    }
   ],
   "source": [
    "# Bulk Insertion\n",
    "# Only demographic\n",
    "sales_data = [\n",
    "    (das,dsfsf,fsf,sfs)\n",
    "    (sdfsf.sf.sf.sf.sf)\n",
    "    (,dfsf,sfs,sfss)\n",
    "]\n",
    "\n",
    "cursor.executemany(\"\"\"\n",
    "INsert into sales(date,product,age,price)\n",
    "                   values(?,?,?,?)\n",
    "               \n",
    "\"\"\" , sales_data)\n",
    "\n",
    "connection.commit()"
   ]
  },
  {
   "cell_type": "code",
   "execution_count": null,
   "metadata": {},
   "outputs": [],
   "source": [
    "#closing connection Permanently \n",
    "\n",
    "connection.close()"
   ]
  },
  {
   "cell_type": "code",
   "execution_count": null,
   "metadata": {},
   "outputs": [],
   "source": [
    "import mysql.connector\n",
    "\n",
    "# Connect to the MySQL database\n",
    "conn = mysql.connector.connect(\n",
    "    host=\"localhost\",\n",
    "    user=\"yourusername\",\n",
    "    password=\"yourpassword\",\n",
    "    database=\"yourdatabase\"\n",
    ")\n",
    "\n",
    "cursor = conn.cursor()\n",
    "\n",
    "# Create a table\n",
    "cursor.execute('''CREATE TABLE IF NOT EXISTS users (\n",
    "    id INT AUTO_INCREMENT PRIMARY KEY,\n",
    "    name VARCHAR(100),\n",
    "    age INT\n",
    ")''')\n",
    "\n",
    "# Insert data\n",
    "cursor.execute(\"INSERT INTO users (name, age) VALUES ('John', 28)\")\n",
    "\n",
    "# Commit the changes and close the connection\n",
    "conn.commit()\n",
    "conn.close()\n",
    "\n",
    "print(\"Data inserted in MySQL!\")\n"
   ]
  },
  {
   "cell_type": "code",
   "execution_count": null,
   "metadata": {},
   "outputs": [],
   "source": [
    "# Flask with DB\n",
    "import sqlite3\n",
    "from flask import Flask, render_template, request\n",
    "\n",
    "app = Flask(__name__)\n",
    "\n",
    "# Function to connect to the database\n",
    "def get_db_connection():\n",
    "    conn = sqlite3.connect('example.db')\n",
    "    conn.row_factory = sqlite3.Row  # Allows column access by name\n",
    "    return conn\n",
    "\n",
    "@app.route('/')\n",
    "def index():\n",
    "    conn = get_db_connection()\n",
    "    users = conn.execute('SELECT * FROM users').fetchall()\n",
    "    conn.close()\n",
    "    return render_template('index.html', users=users)\n",
    "\n",
    "if __name__ == \"__main__\":\n",
    "    app.run(debug=True)\n"
   ]
  }
 ],
 "metadata": {
  "kernelspec": {
   "display_name": "Python 3",
   "language": "python",
   "name": "python3"
  },
  "language_info": {
   "codemirror_mode": {
    "name": "ipython",
    "version": 3
   },
   "file_extension": ".py",
   "mimetype": "text/x-python",
   "name": "python",
   "nbconvert_exporter": "python",
   "pygments_lexer": "ipython3",
   "version": "3.12.5"
  }
 },
 "nbformat": 4,
 "nbformat_minor": 2
}
