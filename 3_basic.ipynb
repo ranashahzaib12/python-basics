{
 "cells": [
  {
   "cell_type": "markdown",
   "metadata": {},
   "source": [
    "## JSON , API"
   ]
  },
  {
   "cell_type": "code",
   "execution_count": null,
   "metadata": {},
   "outputs": [
    {
     "ename": "",
     "evalue": "",
     "output_type": "error",
     "traceback": [
      "\u001b[1;31mFailed to start the Kernel. \n",
      "\u001b[1;31mThe kernel died. Error: ... View Jupyter <a href='command:jupyter.viewOutput'>log</a> for further details."
     ]
    }
   ],
   "source": [
    "import json\n",
    "\n",
    "data = {\"name\": \"Emma\", \"age\": \"30\"}\n",
    "\n",
    "with open(\"data.json\", \"w\") as file:\n",
    "    json.dump(data, file, indent=4)\n",
    "with open(\"data.json\", \"r\") as file:\n",
    "    loaded_data = json.load(file)\n",
    "\n",
    "print(loaded_data[\"name\"])  # Emma\n",
    "\n",
    "\n",
    "json_string = json.dumps(data, indent=4, sort_keys=True)\n",
    "print(json_string)\n",
    "\n",
    "\n",
    "class CustomEncoder(json.JSONEncoder):\n",
    "    def default(self, obj):\n",
    "        if isinstance(obj, set):\n",
    "            return list(obj)\n",
    "        return super().default(obj)\n",
    "\n",
    "print(json.dumps({\"values\": {1, 2, 3}}, cls=CustomEncoder))\n"
   ]
  },
  {
   "cell_type": "code",
   "execution_count": null,
   "metadata": {},
   "outputs": [],
   "source": [
    "import requests\n",
    "\n",
    "res = requests.get(\"https://api.agify.io/?name=emma\")\n",
    "data = res.json()\n",
    "print(data)\n",
    "\n",
    "payload = {\"username\": \"babycoder\", \"email\": \"you@example.com\"}\n",
    "res = requests.post(\"https://httpbin.org/post\", json=payload)\n",
    "\n",
    "print(res.status_code)\n",
    "print(res.json())\n",
    "\n",
    "\n",
    "headers = {\n",
    "    \"Authorization\": \"Bearer YOUR_API_TOKEN\",\n",
    "    \"Content-Type\": \"application/json\"\n",
    "}\n",
    "\n",
    "res = requests.get(\"https://api.example.com/data\", headers=headers)\n",
    "print(res.status_code)\n",
    "\n",
    "\n",
    "try:\n",
    "    res = requests.get(\"https://api.example.com/data\")\n",
    "    res.raise_for_status()  # Raise error for 4XX/5XX\n",
    "    print(res.json())\n",
    "except requests.exceptions.HTTPError as errh:\n",
    "    print(\"HTTP Error:\", errh)\n",
    "except requests.exceptions.ConnectionError as errc:\n",
    "    print(\"Connection Error:\", errc)\n",
    "except requests.exceptions.Timeout as errt:\n",
    "    print(\"Timeout:\", errt)\n",
    "except requests.exceptions.RequestException as err:\n",
    "    print(\"Oops: Something went wrong\", err)\n",
    "\n",
    "\n",
    "params = {\n",
    "    \"name\": \"emma\",\n",
    "    \"country_id\": \"US\"\n",
    "}\n",
    "\n",
    "res = requests.get(\"https://api.agify.io\", params=params)\n",
    "print(res.url)  # See the full request URL\n",
    "print(res.json())\n"
   ]
  },
  {
   "cell_type": "code",
   "execution_count": null,
   "metadata": {},
   "outputs": [],
   "source": [
    "import requests\n",
    "\n",
    "# 👇 Replace with your own key from exchangerate-api.com\n",
    "API_KEY = \"YOUR_API_KEY_HERE\"\n",
    "BASE_URL = f\"https://v6.exchangerate-api.com/v6/{API_KEY}/pair\"\n",
    "\n",
    "def convert_currency(from_currency, to_currency, amount):\n",
    "    \"\"\"\n",
    "    Fetches conversion rate and converts the given amount\n",
    "    \"\"\"\n",
    "    try:\n",
    "        url = f\"{BASE_URL}/{from_currency.upper()}/{to_currency.upper()}\"\n",
    "        response = requests.get(url)\n",
    "        data = response.json()  # Converting JSON response to dictionary\n",
    "\n",
    "        # Check if the API call was successful\n",
    "        if data[\"result\"] == \"success\":\n",
    "            conversion_rate = data[\"conversion_rate\"]\n",
    "            converted_amount = amount * conversion_rate\n",
    "\n",
    "            print(f\"\\n💱 Exchange Rate: 1 {from_currency.upper()} = {conversion_rate:.4f} {to_currency.upper()}\")\n",
    "            print(f\"✅ {amount} {from_currency.upper()} = {converted_amount:.2f} {to_currency.upper()}\")\n",
    "        else:\n",
    "            print(\"❌ Error in API response:\", data.get(\"error-type\", \"Unknown error\"))\n",
    "\n",
    "    except Exception as e:\n",
    "        print(\"⚠️ Something went wrong:\", e)\n",
    "\n",
    "# 🧑‍💻 Get user input\n",
    "from_curr = input(\"From Currency (e.g., USD): \")\n",
    "to_curr = input(\"To Currency (e.g., EUR): \")\n",
    "amount = float(input(\"Amount to Convert: \"))\n",
    "\n",
    "convert_currency(from_curr, to_curr, amount)\n"
   ]
  },
  {
   "cell_type": "markdown",
   "metadata": {},
   "source": [
    "## Logging"
   ]
  },
  {
   "cell_type": "code",
   "execution_count": null,
   "metadata": {},
   "outputs": [],
   "source": [
    "import logging #Track what's happening in your program\n",
    "\n",
    "#Configuring the basic logging settings \n",
    "logging.basicConfig(level=logging.DEBUG) \n",
    "\n",
    "#log messages\n",
    "logging.debug(\"This is a debug message\")\n",
    "logging.info(\"this i s a info message\")\n",
    "logging.warning(\"THis is a warning message\")\n",
    "logging.error(\"This a Error message\")\n",
    "logging.critical(\"This is a critical message\")\n"
   ]
  },
  {
   "cell_type": "code",
   "execution_count": null,
   "metadata": {},
   "outputs": [],
   "source": [
    "#to run multiple loggin file we need to Restart the kernel for a new configuration \n",
    "import logging\n",
    "#Configuring logging\n",
    "logging.basicConfig(\n",
    "    filename='app.log', \n",
    "    filemode='w',#Saving all the configuration details in file\n",
    "    level=logging.DEBUG, \n",
    "    format='%(asctime)s=%(name)s-%(levelname)s-%(message)s',\n",
    "    datefmt = '%Y-%m-%d %H:%M:%S'\n",
    "    )\n",
    "\n",
    "# #log messages\n",
    "logging.debug(\"THis is a debug message\"),\n",
    "logging.debug(\"This is a debug message\"),\n",
    "logging.info(\"this i s a info message\"),\n",
    "logging.warning(\"THis is a warning message\"),\n",
    "logging.error(\"This a Error message\"),\n",
    "logging.critical(\"This is a critical message\")\n",
    "\n",
    "#AB jitni baar bhee run karay gay utnii baar file mein likha jaay ga\n"
   ]
  },
  {
   "cell_type": "markdown",
   "metadata": {},
   "source": [
    "### :Logging eith multiple loggers"
   ]
  },
  {
   "cell_type": "code",
   "execution_count": null,
   "metadata": {},
   "outputs": [],
   "source": [
    "import logging\n",
    "# create a logger for module\n",
    "logger1 = logging.getLogger(\"module1\")\n",
    "logger1.setLevel(logging.DEBUG)\n",
    "\n",
    "# For module 2\n",
    "\n",
    "logger2 = logging.getLogger(\"module2\")\n",
    "logger2.setLevel(logging.WARNING)\n",
    "\n",
    "logging.basicConfig(\n",
    "    level=logging.DEBUG, \n",
    "    format='%(asctime)s=%(name)s-%(levelname)s-%(message)s',\n",
    "    datefmt = '%Y-%m-%d %H:%M:%S'\n",
    "    )"
   ]
  },
  {
   "cell_type": "code",
   "execution_count": null,
   "metadata": {},
   "outputs": [],
   "source": [
    "#log message with different logger\n",
    "\n",
    "logger1.debug(\"This is debug message for module1\")\n",
    "logger2.warning(\"THIs is awarining message forom logger2\")"
   ]
  },
  {
   "cell_type": "markdown",
   "metadata": {},
   "source": [
    "# DMA"
   ]
  },
  {
   "cell_type": "code",
   "execution_count": null,
   "metadata": {},
   "outputs": [],
   "source": [
    "#Reference  Counting \n",
    "import sys\n",
    "\n",
    "a = [] \n",
    "# 1 for a ,1 for getrefcount\n",
    "print(sys.getrefcount(a)) # Otuput -- 2\n"
   ]
  },
  {
   "cell_type": "code",
   "execution_count": null,
   "metadata": {},
   "outputs": [],
   "source": [
    "b=a \n",
    "print(sys.getrefcount(b))"
   ]
  },
  {
   "cell_type": "markdown",
   "metadata": {},
   "source": [
    "**Garbage Collection** "
   ]
  },
  {
   "cell_type": "code",
   "execution_count": null,
   "metadata": {},
   "outputs": [],
   "source": [
    "import gc\n",
    "\n",
    "gc.enable()"
   ]
  },
  {
   "cell_type": "code",
   "execution_count": null,
   "metadata": {},
   "outputs": [],
   "source": [
    "gc.disable()"
   ]
  },
  {
   "cell_type": "code",
   "execution_count": null,
   "metadata": {},
   "outputs": [],
   "source": [
    "gc.collect()# number of variable currently in my vscode"
   ]
  },
  {
   "cell_type": "code",
   "execution_count": null,
   "metadata": {},
   "outputs": [],
   "source": [
    "#Get garbage stats\n",
    "print(gc.get_stats())"
   ]
  },
  {
   "cell_type": "code",
   "execution_count": null,
   "metadata": {},
   "outputs": [],
   "source": [
    "#Get unreachable content\n",
    "print(gc.garbage)"
   ]
  },
  {
   "cell_type": "code",
   "execution_count": null,
   "metadata": {},
   "outputs": [],
   "source": [
    "# pickling\n",
    "# Pickling is the process of converting a Python object into a byte stream\n",
    "# Unpickling is the reverse process of converting a byte stream back into a Python object\n",
    "\n",
    "# Pickling is used to save Python objects to a file or send them over a network\n",
    "# Unpickling is used to load the objects back into memory\n",
    "\n",
    "import pickle\n",
    "\n",
    "# Step 1: Pickle (Save) the data\n",
    "data = {\"name\": \"John\", \"age\": 25, \"city\": \"New York\"}\n",
    "with open(\"data.pkl\", \"wb\") as file:\n",
    "    pickle.dump(data, file)\n",
    "print(\"Object pickled!\")\n",
    "\n",
    "# Step 2: Unpickle (Load) the data\n",
    "with open(\"data.pkl\", \"rb\") as file:\n",
    "    loaded_data = pickle.load(file)\n",
    "\n",
    "print(\"Loaded Data:\", loaded_data)\n"
   ]
  }
 ],
 "metadata": {
  "kernelspec": {
   "display_name": "Python 3",
   "language": "python",
   "name": "python3"
  },
  "language_info": {
   "codemirror_mode": {
    "name": "ipython",
    "version": 3
   },
   "file_extension": ".py",
   "mimetype": "text/x-python",
   "name": "python",
   "nbconvert_exporter": "python",
   "pygments_lexer": "ipython3",
   "version": "3.12.5"
  }
 },
 "nbformat": 4,
 "nbformat_minor": 2
}
